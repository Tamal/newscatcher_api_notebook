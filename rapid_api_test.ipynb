{
 "metadata": {
  "language_info": {
   "codemirror_mode": {
    "name": "ipython",
    "version": 3
   },
   "file_extension": ".py",
   "mimetype": "text/x-python",
   "name": "python",
   "nbconvert_exporter": "python",
   "pygments_lexer": "ipython3",
   "version": "3.7.9"
  },
  "orig_nbformat": 4,
  "kernelspec": {
   "name": "python3",
   "display_name": "Python 3.7.9 64-bit ('env': venv)"
  },
  "interpreter": {
   "hash": "dd51b2024122333d0c2f5d27a3ce90bdb1562b8eeccb7dc71baff200e418b629"
  }
 },
 "nbformat": 4,
 "nbformat_minor": 2,
 "cells": [
  {
   "cell_type": "code",
   "execution_count": 3,
   "metadata": {},
   "outputs": [
    {
     "output_type": "stream",
     "name": "stdout",
     "text": [
      "{\n  \"status\": \"ok\",\n  \"articles\": [\n    {\n      \"summary\": \"Tears welled in Chris Paul's eyes. A message in black ink on his shoes said it all: Can't give up now. Not when, after 16 years, he will finally play for an NBA title. Paul led the Phoenix Suns into their first NBA Finals in 28 years, beating the Los Angeles Clippers 130-103 on Wednesday night to close out the Western Conference finals in six games. 'I was on a don't-lose mission,' Paul said. 'Just a lot of emotion. A lot of (things) going on.' READ MORE: * NZ NBL: Auckland Huskies have inside running for fourth spot in finals race * Atlanta Hawks romp to Eastern Conference finals win; Bucks lose their 'Greek Freak' * Steven Adams to get new head coach after New Orleans Pelicans fire Stan van Gundy Paul scored 41 points and Devin Booker added 22 to send the Suns to their third finals appearance in franchise history.\",\n      \"country\": \"NZ\",\n      \"author\": \"BETH HARRIS\",\n      \"link\": \"https://www.stuff.co.nz/sport/basketball/300347486/chris-paul-leads-phoenix-suns-into-nba-finals-los-angeles-clippers-out\",\n      \"language\": \"en\",\n      \"media\": \"https://resources.stuff.co.nz/content/dam/images/4/y/t/h/m/5/image.related.StuffLandscapeSixteenByNine.1420x800.4ythlq.png/1625128553014.jpg\",\n      \"title\": \"Chris Paul leads Phoenix Suns into NBA finals, Los Angeles Clippers out\",\n      \"media_content\": null,\n      \"clean_url\": \"stuff.co.nz\",\n      \"rights\": \"Stuff Limited.\",\n      \"rank\": \"1060\",\n      \"topic\": \"sport\",\n      \"published_date\": \"2021-07-01 08:35:50\",\n      \"_id\": \"af5778930c14e6a1f96b440b13b1b81b\"\n    },\n    {\n      \"summary\": \"Controversial Brisbane Broncos prop Matt Lodge has made a mid-season switch to the Warriors. He will not play against the Dragons on Friday night but will enter the Warriors bubble over the weekend and be available to play against the Sharks on Sunday week. Lodge's NRL career was halted during the 2016/17 seasons following a terrifying and violent drunken assault in New York City in 2015. He joins Chad Townsend and Dallin Watene-Zelezniak as mid-season signings at the Warriors. MORE TO COME\",\n      \"country\": \"NZ\",\n      \"author\": \"STUFF SPORTS SUPPORTERS\",\n      \"link\": \"https://www.stuff.co.nz/sport/league/warriors/125627597/controversial-broncos-prop-matt-lodge-joins-warriors-immediately-will-play-against-the-sharks\",\n      \"language\": \"en\",\n      \"media\": \"https://resources.stuff.co.nz/content/dam/images/4/y/t/9/b/k/image.related.StuffLandscapeSixteenByNine.1420x800.22smvh.png/1625122207328.jpg\",\n      \"title\": \"Controversial Broncos prop Matt Lodge joins Warriors immediately, will play against the Sharks\",\n      \"media_content\": null,\n      \"clean_url\": \"stuff.co.nz\",\n      \"rights\": \"Stuff Limited.\",\n      \"rank\": \"1060\",\n      \"topic\": \"sport\",\n      \"published_date\": \"2021-07-01 06:50:06\",\n      \"_id\": \"c75052c997272f559edf0cc2d9b133b1\"\n    },\n    {\n      \"summary\": \"Between room-mate Beauden Barrett, franchise-mate Anton Lienert-Brown and new best mate Rieko Ioane, it is fair to see that new boy Quinn Tupaea has not been short of friendly advice ahead of his All Blacks starting test debut on Saturday. The 22-year-old standout Chiefs midfielder is the only uncapped player named in Ian Foster's starting lineup to face Tonga in the second part of the historic Mount Smart international double-header on Saturday \\u2013 though there will also be three debutants off the bench in prop George Bower, loosie Ethan Blackadder and halfback Finlay Christie.\",\n      \"country\": \"NZ\",\n      \"author\": \"MARC HINTON\",\n      \"link\": \"https://www.stuff.co.nz/sport/rugby/all-blacks/300347449/all-blacks-vs-tonga-new-boy-quinn-tupaea-soaks-up-advice-ahead-of-his-test-debut\",\n      \"language\": \"en\",\n      \"media\": \"https://resources.stuff.co.nz/content/dam/images/4/y/t/h/i/y/image.related.StuffLandscapeSixteenByNine.1420x800.4ythkp.png/1625116551814.jpg\",\n      \"title\": \"All Blacks vs Tonga: New boy Quinn Tupaea soaks up advice ahead of his test debut\",\n      \"media_content\": null,\n      \"clean_url\": \"stuff.co.nz\",\n      \"rights\": \"Stuff Limited.\",\n      \"rank\": \"1060\",\n      \"topic\": \"sport\",\n      \"published_date\": \"2021-07-01 05:15:50\",\n      \"_id\": \"8a1117de0f847ea45b89a09923c16a5e\"\n    },\n    {\n      \"summary\": \"Otago Cricket says its rising star Dean Foxcroft is 'distraught' after being denied entry to New Zealand again, and insists it won't give up on helping him achieve his dream of Black Caps selection. The 23-year-old batting allrounder remains stuck in his homeland, South Africa, after Immigration NZ declined an application for an exemption to its border restrictions to allow him to return to New Zealand. Amid Covid-19, only New Zealand citizens and permanent residents are permitted entry.The 37-year-old hasn't decided if the World Test Championship final will be his last match, but feels he still has something to offer.\",\n      \"country\": \"NZ\",\n      \"author\": \"STUFF SPORTS REPORTERS\",\n      \"link\": \"https://www.stuff.co.nz/sport/cricket/125625132/otago-cricket-devastated-as-rising-star-dean-foxcroft-denied-reentry-to-new-zealand-again\",\n      \"language\": \"en\",\n      \"media\": \"https://resources.stuff.co.nz/content/dam/images/4/y/t/h/i/j/image.related.StuffLandscapeSixteenByNine.1420x800.22skz0.png/1625114292927.jpg\",\n      \"title\": \"Otago Cricket 'devastated' as rising star Dean Foxcroft denied re-entry to New Zealand, again\",\n      \"media_content\": null,\n      \"clean_url\": \"stuff.co.nz\",\n      \"rights\": \"Stuff Limited.\",\n      \"rank\": \"1060\",\n      \"topic\": \"sport\",\n      \"published_date\": \"2021-07-01 04:36:40\",\n      \"_id\": \"aff0814686bcd32ff499e80169a5e0ae\"\n    },\n    {\n      \"summary\": \"James Wilson will lead the Southland Stags attack in 2021; not as a player but as an assistant coach. Rugby Southland confirmed on Thursday that Wilson will join the Stags coaching setup for the 2021 NPC competition which starts next month. Wilson has played over 250 games throughout the world which included 75 for Southland between 2003 at 2018. In 2011 landing a drop goal to win Southland the Ranfurly Shield. The 37-year-old, who has spent the last 12 months playing professionally in Japan, joins head coach Dale MacLeod and assistant coach David Hall in the Stags coaching setup.\",\n      \"country\": \"NZ\",\n      \"author\": \"LOGAN SAVORY\",\n      \"link\": \"https://www.stuff.co.nz/sport/rugby/125624109/james-wilson-is-back-with-the-southland-stags-this-time-as-a-coach\",\n      \"language\": \"en\",\n      \"media\": \"https://resources.stuff.co.nz/content/dam/images/4/y/t/h/f/y/image.related.StuffLandscapeSixteenByNine.1420x800.22sk6l.png/1625111302885.jpg\",\n      \"title\": \"James Wilson is back with the Southland Stags, this time as a coach\",\n      \"media_content\": null,\n      \"clean_url\": \"stuff.co.nz\",\n      \"rights\": \"Stuff Limited.\",\n      \"rank\": \"1060\",\n      \"topic\": \"sport\",\n      \"published_date\": \"2021-07-01 04:25:00\",\n      \"_id\": \"6d744a627944f094399242b752dea5b7\"\n    }\n  ],\n  \"user_input\": {\n    \"lang\": \"en\",\n    \"country\": \"nz\",\n    \"topic\": \"sport\",\n    \"media\": \"True\"\n  }\n}\n"
     ]
    }
   ],
   "source": [
    "import requests\n",
    "import json\n",
    "\n",
    "# Searching Sports news in NZ\n",
    "url = \"https://newscatcher.p.rapidapi.com/v1/latest_headlines\"\n",
    "\n",
    "querystring = {\"topic\":\"sport\",\"lang\":\"en\",\"country\":\"nz\",\"media\":\"True\"}\n",
    "\n",
    "headers = {\n",
    "    'x-rapidapi-key': '159028ec9cmshaf9d7b547405139p1bfce0jsn80b85d554231',\n",
    "    'x-rapidapi-host': 'newscatcher.p.rapidapi.com'\n",
    "}\n",
    "\n",
    "response = requests.request(\"GET\", url, headers=headers, params=querystring)\n",
    "\n",
    "jsonObj = json.loads(response.text)\n",
    "print(json.dumps(jsonObj, indent = 2))"
   ]
  },
  {
   "cell_type": "code",
   "execution_count": 4,
   "metadata": {},
   "outputs": [
    {
     "output_type": "stream",
     "name": "stdout",
     "text": [
      "{\n  \"status\": \"ok\",\n  \"total_hits\": 2,\n  \"page\": 1,\n  \"total_pages\": 1,\n  \"page_size\": 2,\n  \"articles\": [\n    {\n      \"summary\": \"An Auckland barber shop and tattoo parlour has been firebombed and shot up overnight amid growing gang tensions Auckland. There are fears the incident, in M\\u0101ngere, could be the first major shot in a war for control of the south Auckland suburb, Stuff understands. Police are yet to make an arrest following the attack on the business in Kirkbride Rd early on Thursday, but have confirmed they do not believe it was a random attack and say it could be linked to organised crime groups. The business, which Stuff has chosen not to identify, was totally gutted by the blaze.\",\n      \"country\": \"NZ\",\n      \"author\": \"GEORGE BLOCK\",\n      \"link\": \"https://www.stuff.co.nz/national/crime/300347442/south-auckland-barber-shop-firebombed-shot-up-amid-gang-war-fears-in-mngere\",\n      \"language\": \"en\",\n      \"media\": \"https://resources.stuff.co.nz/content/dam/images/4/y/t/h/k/5/image.related.StuffLandscapeSixteenByNine.1420x800.4ythki.png/1625119698609.jpg\",\n      \"title\": \"South Auckland barber shop firebombed, shot up, amid gang war fears in M\\u0101ngere\",\n      \"media_content\": null,\n      \"clean_url\": \"stuff.co.nz\",\n      \"rights\": \"Stuff Limited.\",\n      \"rank\": \"1060\",\n      \"topic\": \"news\",\n      \"published_date\": \"2021-07-01 06:08:10\",\n      \"_id\": \"5cdfae356e33aa081875e2c75a7c23a7\",\n      \"_score\": 5.546341\n    },\n    {\n      \"summary\": \"The body of a Tongan vineyard worker fatally injured two weeks ago has been returned to his home country after emotional memorial services this week. Hiko Lynch, 23, was allegedly stabbed in central Blenheim during what police believe was an altercation between a gang from outside the region and three Tongans in the country on the Recognised Seasonal Employer (RSE) scheme. He died from his injuries while his two friends were taken to Blenheim's Wairau Hospital seriously wounded, in the early hours of June 20.\",\n      \"country\": \"NZ\",\n      \"author\": \"JENNIFER EDER\",\n      \"link\": \"https://www.stuff.co.nz/marlborough-express/news/125613159/vineyard-workers-body-returned-to-family-in-tonga-after-emotional-farewell\",\n      \"language\": \"en\",\n      \"media\": \"https://resources.stuff.co.nz/content/dam/images/4/y/t/b/a/u/image.related.StuffLandscapeSixteenByNine.1420x800.22sbqf.png/1625102510836.jpg\",\n      \"title\": \"Vineyard worker's body returned to family in Tonga after emotional farewell\",\n      \"media_content\": null,\n      \"clean_url\": \"stuff.co.nz\",\n      \"rights\": \"Stuff Limited.\",\n      \"rank\": \"1060\",\n      \"topic\": \"news\",\n      \"published_date\": \"2021-07-01 01:21:49\",\n      \"_id\": \"d99d5d8d302f27f3dde8daf7b9b7bc68\",\n      \"_score\": 3.59092\n    }\n  ],\n  \"user_input\": {\n    \"q\": \"crime\",\n    \"search_in\": \"title_summary_en\",\n    \"lang\": \"en\",\n    \"country\": \"nz\",\n    \"from\": \"2021-07-01 00:00:00\",\n    \"to\": null,\n    \"ranked_only\": \"True\",\n    \"from_rank\": null,\n    \"to_rank\": null,\n    \"sort_by\": \"relevancy\",\n    \"page\": 1,\n    \"size\": 5,\n    \"sources\": null,\n    \"not_sources\": null,\n    \"topic\": \"news\",\n    \"media\": \"True\"\n  }\n}\n"
     ]
    }
   ],
   "source": [
    "url = \"https://newscatcher.p.rapidapi.com/v1/search\"\n",
    "\n",
    "# Searching crime news in NZ\n",
    "querystring = {\"q\":\"crime\",\"lang\":\"en\",\"sort_by\":\"relevancy\",\"country\":\"nz\",\"topic\":\"news\",\"page\":\"1\",\"media\":\"True\", 'from': '2021-07-01'}\n",
    "\n",
    "response = requests.request(\"GET\", url, headers=headers, params=querystring)\n",
    "\n",
    "jsonObj = json.loads(response.text)\n",
    "print(json.dumps(jsonObj, indent = 2))"
   ]
  },
  {
   "cell_type": "code",
   "execution_count": 5,
   "metadata": {},
   "outputs": [
    {
     "output_type": "stream",
     "name": "stdout",
     "text": [
      "{\n  \"status\": \"ok\",\n  \"articles\": [\n    {\n      \"summary\": \"A unique concert event that bridges the musical worlds of taonga puoro (traditional M\\u0101ori instruments) and orchestral compositions is being staged at two Hamilton venues this weekend. He Pu, He Puoro, He Purakau (A Seed, An Instrument, A Story) will showcase new and recent work by composers and musicians Horomona Horo and Jeremy Mayall. The pair are long-standing collaborators and sonic explorers, and this concert promises to weave together 'the sounds of Aotearoa with the musical textures of the imagination'.\",\n      \"country\": \"NZ\",\n      \"author\": \"MIKE MATHER\",\n      \"link\": \"https://www.stuff.co.nz/waikato-times/news/125627280/taonga-puoro-meets-orchestral-music-in-unique-kirikiriroa-concerts\",\n      \"language\": \"en\",\n      \"media\": \"https://resources.stuff.co.nz/content/dam/images/4/y/t/h/l/z/image.related.StuffLandscapeSixteenByNine.1420x800.22smmo.png/1625131925327.jpg\",\n      \"title\": \"Taonga puoro meets orchestral music in unique Kirikiriroa concerts\",\n      \"media_content\": null,\n      \"clean_url\": \"stuff.co.nz\",\n      \"rights\": \"Stuff Limited.\",\n      \"rank\": \"1060\",\n      \"topic\": \"news\",\n      \"published_date\": \"2021-07-01 09:32:04\",\n      \"_id\": \"ad75c28200bc3eceea2fce554208c05a\"\n    },\n    {\n      \"summary\": \"A higher-rise housing revolution in Auckland has begun with councillors launching work to deliver the government directive to build up to six-storeys, in more areas, to help make housing more affordable. First is a focus on what higher density Auckland might look like under the National Policy Statement on Urban Development (NPS-UD) in 'special character areas' and those near fast public transport. The conundrum is that villas and character homes in Auckland's more central 'leafy suburbs' also sit in the areas which fit the Government's criteria for six-storey apartment blocks.\",\n      \"country\": \"NZ\",\n      \"author\": \"TODD NIALL\",\n      \"link\": \"https://www.stuff.co.nz/environment/125627724/auckland-housing-the-real-highrise-revolution-looms\",\n      \"language\": \"en\",\n      \"media\": \"https://resources.stuff.co.nz/content/dam/images/4/y/t/h/n/5/image.related.StuffLandscapeSixteenByNine.1420x800.22smz0.png/1625127441323.jpg\",\n      \"title\": \"Auckland Housing: The real high-rise revolution looms\",\n      \"media_content\": null,\n      \"clean_url\": \"stuff.co.nz\",\n      \"rights\": \"Stuff Limited.\",\n      \"rank\": \"1060\",\n      \"topic\": \"news\",\n      \"published_date\": \"2021-07-01 08:17:20\",\n      \"_id\": \"d77ccb8363bd350eeb7674846317038d\"\n    },\n    {\n      \"summary\": \"A pet ram who was on the loose after escaping the New Plymouth pound has not been found more than a fortnight later. The ram, believed to be called Duggy, was taken to the New Plymouth District Council pound after reports that he was butting people on the Huatoki Walkway. A New Plymouth District Council (NPDC) spokesman said the ram was taken to its animal shelter, on Rifle Range Rd on June 14, but the following day escaped from the pound's paddock. On Thursday, NPDC said there had been no reports from the public, nor any sightings by council staff.\",\n      \"country\": \"NZ\",\n      \"author\": \"CHRISTINA PERSICO\",\n      \"link\": \"https://www.stuff.co.nz/taranaki-daily-news/news/125619367/no-sightings-of-new-plymouths-runaway-ram-after-two-and-a-half-weeks\",\n      \"language\": \"en\",\n      \"media\": \"https://resources.stuff.co.nz/content/dam/images/4/y/t/8/g/n/image.related.StuffLandscapeSixteenByNine.1420x800.22sgiv.png/1625109440413.jpg\",\n      \"title\": \"No sightings of New Plymouth's runaway ram after two and a half weeks\",\n      \"media_content\": null,\n      \"clean_url\": \"stuff.co.nz\",\n      \"rights\": \"Stuff Limited.\",\n      \"rank\": \"1060\",\n      \"topic\": \"news\",\n      \"published_date\": \"2021-07-01 08:00:00\",\n      \"_id\": \"4745ed17de8d08236218c8634f506917\"\n    },\n    {\n      \"summary\": \"If there's one hardworking piece of furniture in many households, it's the dining table. Even before many became repurposed as desks during Covid lockdowns, dining tables saw a lot of activity \\u2013 for meals obviously, and sometimes on a revolving door type of schedule with various members of the house breakfasting and dining at different times. They serve as a place to do homework, have a cuppa with a visiting friend and to check emails on a laptop. Now that the television is no longer the dominant entertainment screen for many people, meals eaten on knees in front of the TV are over.\",\n      \"country\": \"NZ\",\n      \"author\": \"SHARON NEWEY\",\n      \"link\": \"https://www.stuff.co.nz/life-style/homed/nz-house-garden/300345100/defining-dining-how-to-choose-the-right-dining-table-and-chairs-for-your-space\",\n      \"language\": \"en\",\n      \"media\": \"https://resources.stuff.co.nz/content/dam/images/4/y/t/f/s/t/image.related.StuffLandscapeSixteenByNine.1420x800.4ytfrg.png/1625098860747.jpg\",\n      \"title\": \"Defining dining: How to choose the right dining table and chairs for your space\",\n      \"media_content\": null,\n      \"clean_url\": \"stuff.co.nz\",\n      \"rights\": \"Stuff Limited.\",\n      \"rank\": \"1060\",\n      \"topic\": \"news\",\n      \"published_date\": \"2021-07-01 08:00:00\",\n      \"_id\": \"d80e631faa30c41f256e72981ab2dcf1\"\n    },\n    {\n      \"summary\": \"Kitted up with plastic gowns and protective glasses, a group of Porirua youth has been given a rare glimpse behind the doors at one of the country's Crown Research Institutes, the Institute of Environmental Science Research (ESR). The visit by Ng\\u0101ti Toa rangatahi to ESR's Kenepuru-based health, microbiology and toxicology labs last month was part of the iwi's Paria Te Tai\\u200b youth programme. Translated as \\u2018changing the tide', the programme exposed 15 to 24-year-old M\\u0101ori not in work or study to the environment, while improving their education, employment and training outcomes.\",\n      \"country\": \"NZ\",\n      \"author\": \"Stuff\",\n      \"link\": \"https://www.stuff.co.nz/dominion-post/news/porirua/125622087/ngti-toa-youth-embrace-cool-opportunity-to-visit-kenepuru-science-lab\",\n      \"language\": \"en\",\n      \"media\": \"https://resources.stuff.co.nz/content/dam/images/4/y/t/h/j/t/image.related.StuffLandscapeSixteenByNine.1420x800.22simf.png/1625126179794.jpg\",\n      \"title\": \"Ng\\u0101ti Toa youth embrace 'cool opportunity' to visit Kenepuru science lab\",\n      \"media_content\": null,\n      \"clean_url\": \"stuff.co.nz\",\n      \"rights\": \"Stuff Limited.\",\n      \"rank\": \"1060\",\n      \"topic\": \"news\",\n      \"published_date\": \"2021-07-01 07:56:19\",\n      \"_id\": \"577f7e4b4a2f6b57f93f7a63a75e0af2\"\n    }\n  ],\n  \"user_input\": {\n    \"lang\": \"en\",\n    \"country\": \"nz\",\n    \"topic\": \"news\",\n    \"media\": \"True\"\n  }\n}\n"
     ]
    }
   ],
   "source": [
    "\n",
    "# Searching general news in New Zealand\n",
    "url = \"https://newscatcher.p.rapidapi.com/v1/latest_headlines\"\n",
    "\n",
    "querystring = {\"topic\":\"news\",\"lang\":\"en\",\"country\":\"nz\",\"media\":\"True\"}\n",
    "\n",
    "response = requests.request(\"GET\", url, headers=headers, params=querystring)\n",
    "\n",
    "jsonObj = json.loads(response.text)\n",
    "print(json.dumps(jsonObj, indent = 2))"
   ]
  },
  {
   "cell_type": "code",
   "execution_count": 6,
   "metadata": {},
   "outputs": [
    {
     "output_type": "stream",
     "name": "stdout",
     "text": [
      "{\n  \"status\": \"ok\",\n  \"articles\": [\n    {\n      \"summary\": \"\",\n      \"country\": \"AU\",\n      \"author\": \"\",\n      \"link\": \"https://dsf.newscorpaustralia.com/theaustralian/subscription/\",\n      \"language\": \"en\",\n      \"media\": null,\n      \"title\": \"Ranking tool names and shames funds\",\n      \"media_content\": null,\n      \"clean_url\": \"newscorpaustralia.com\",\n      \"rights\": \"newscorpaustralia.com\",\n      \"rank\": \"1513\",\n      \"topic\": \"news\",\n      \"published_date\": \"2021-07-01 11:09:00\",\n      \"_id\": \"988a002ad245ab9e435105e5e8b398eb\"\n    },\n    {\n      \"summary\": \"\",\n      \"country\": \"AU\",\n      \"author\": \"\",\n      \"link\": \"https://dsf.newscorpaustralia.com/theaustralian/subscription/\",\n      \"language\": \"en\",\n      \"media\": null,\n      \"title\": \"Vaccine hubs, chemists to lift jab numbers\",\n      \"media_content\": null,\n      \"clean_url\": \"newscorpaustralia.com\",\n      \"rights\": \"newscorpaustralia.com\",\n      \"rank\": \"1513\",\n      \"topic\": \"news\",\n      \"published_date\": \"2021-07-01 11:06:00\",\n      \"_id\": \"e1ac2dccec9fa27b18f7495480792373\"\n    },\n    {\n      \"summary\": \"Superannuation Minister Jane Hume made a 'disturbing comment' following the rise to mandated super contributions, according to Sky News host Alan Jones. Mandated super contributions from employers into workers' superannuation will rise from 9.5 per cent to 10 per cent. 'Jane Hume, saying she wouldn't stop businesses from deducting the superannuation increase from employees' wages,' Mr Jones said. 'That shouldn't happen, but as with all things, someone has to pay. 'Employers are being hit again, in this environment, can they afford it?' Superannuation Minister Jane Hume made a 'disturbing comment' following the rise to mandated super contributions, according to Sky News host Alan Jones.\",\n      \"country\": \"AU\",\n      \"author\": \"\",\n      \"link\": \"https://www.skynews.com.au/opinion/alan-jones/jane-humes-disturbing-comment-amid-mandated-super-contributions-rise/video/1663e8e7905e203038a9c6db5948daeb\",\n      \"language\": \"en\",\n      \"media\": \"https://content.api.news/v3/images/bin/ca2b1b530db26e1f16375077352ed614\",\n      \"title\": \"Jane Hume's \\u2018disturbing comment' amid mandated super contributions rise\",\n      \"media_content\": null,\n      \"clean_url\": \"skynews.com.au\",\n      \"rights\": \"skynews.com.au\",\n      \"rank\": \"1513\",\n      \"topic\": \"news\",\n      \"published_date\": \"2021-07-01 11:01:12\",\n      \"_id\": \"734289232897de9a8206e80b5145505f\"\n    },\n    {\n      \"summary\": \"Superannuation Minister Jane Hume made a 'disturbing comment' following the rise to mandated super contributions, according to Sky News host Alan Jones. Mandated super contributions from employers into workers' superannuation will rise from 9.5 per cent to 10 per cent. 'Jane Hume, saying she wouldn't stop businesses from deducting the superannuation increase from employees' wages,' Mr Jones said. 'That shouldn't happen, but as with all things, someone has to pay. 'Employers are being hit aga\",\n      \"country\": \"AU\",\n      \"author\": \"\",\n      \"link\": \"https://www.goldcoastbulletin.com.au/news/national/jane-humes-disturbing-comment-amid-mandated-super-contributions-rise/video/1663e8e7905e203038a9c6db5948daeb\",\n      \"language\": \"en\",\n      \"media\": null,\n      \"title\": \"Jane Hume's \\u2018disturbing comment' amid mandated super contributions rise\",\n      \"media_content\": null,\n      \"clean_url\": \"goldcoastbulletin.com.au\",\n      \"rights\": \"goldcoastbulletin.com.au\",\n      \"rank\": \"24727\",\n      \"topic\": \"news\",\n      \"published_date\": \"2021-07-01 11:01:12\",\n      \"_id\": \"a97f617519059dae892089bf7b61fb4a\"\n    },\n    {\n      \"summary\": \"Thomas Pesquet, the first French commander of the International Space Station, showed off his cooking skills - in space. The Australian doesn't play nicely with your current browser. Please take a moment to upgrade to the latest version.\",\n      \"country\": \"AU\",\n      \"author\": \"\",\n      \"link\": \"https://www.theaustralian.com.au/news/french-astronaut-serves-up-strawberry-crpe-in-space/video/38e4be1c5f61bfb0e686ade64a3ce0ff\",\n      \"language\": \"en\",\n      \"media\": \"https://www.theaustralian.com.au/news/french-astronaut-serves-up-strawberry-crpe-in-space/video/38e4be1c5f61bfb0e686ade64a3ce0ff\",\n      \"title\": \"French astronaut serves up strawberry \\u2018cr\\u00eape' in space\",\n      \"media_content\": null,\n      \"clean_url\": \"theaustralian.com.au\",\n      \"rights\": \"theaustralian.com.au\",\n      \"rank\": \"1513\",\n      \"topic\": \"news\",\n      \"published_date\": \"2021-07-01 11:00:24\",\n      \"_id\": \"c069cddf43c56c01c57fb1bb203483f0\"\n    }\n  ],\n  \"user_input\": {\n    \"lang\": \"en\",\n    \"country\": \"au\",\n    \"topic\": \"news\",\n    \"media\": \"True\"\n  }\n}\n"
     ]
    }
   ],
   "source": [
    "\n",
    "# Searching general news in Australia\n",
    "url = \"https://newscatcher.p.rapidapi.com/v1/latest_headlines\"\n",
    "\n",
    "querystring = {\"topic\":\"news\",\"lang\":\"en\",\"country\":\"au\",\"media\":\"True\"}\n",
    "\n",
    "response = requests.request(\"GET\", url, headers=headers, params=querystring)\n",
    "\n",
    "jsonObj = json.loads(response.text)\n",
    "print(json.dumps(jsonObj, indent = 2))"
   ]
  },
  {
   "cell_type": "code",
   "execution_count": 7,
   "metadata": {},
   "outputs": [
    {
     "output_type": "stream",
     "name": "stdout",
     "text": [
      "{\n  \"status\": \"ok\",\n  \"total_hits\": 2,\n  \"page\": 1,\n  \"total_pages\": 1,\n  \"page_size\": 2,\n  \"articles\": [\n    {\n      \"summary\": \"Children's Minister Kelvin Davis has stopped short of saying abuse that closed an Oranga Tamariki residence is systemic, but says the future of staff involved is \\\"up in the air\\\". Davis said chief executive Sir Wira Gardiner had made the right decision in temporarily shutting the facility down after footage emerged of a young person being tackled and held in a headlock. \\\"I back him 100 per cent. There were a number of factors that fed into him making that decision, and it was the right one to make .\",\n      \"country\": \"NZ\",\n      \"author\": \"Stuff\",\n      \"link\": \"https://www.stuff.co.nz/national/300347441/oranga-tamariki-staff-did-wrong-and-face-losing-jobs--davis\",\n      \"language\": \"en\",\n      \"media\": \"https://resources.stuff.co.nz/content/dam/images/4/y/s/y/r/3/image.related.StuffLandscapeSixteenByNine.1420x800.4ythkh.png/1625117623059.jpg\",\n      \"title\": \"Oranga Tamariki staff did wrong and face losing jobs\",\n      \"media_content\": null,\n      \"clean_url\": \"stuff.co.nz\",\n      \"rights\": \"Stuff Limited.\",\n      \"rank\": \"1060\",\n      \"topic\": \"news\",\n      \"published_date\": \"2021-07-01 05:33:42\",\n      \"_id\": \"9e5b801fd9f8c71c419a14b64bf2bb27\",\n      \"_score\": 4.057969\n    },\n    {\n      \"summary\": \"None of the staff at a care and protection residence where youth workers allegedly used excessive force on a teen had received refresher training on techniques for physical interventions, a union says. Oranga Tamariki chief executive Sir Wira Gardiner announced on Thursday that the agency would close care and protection residence in Christchurch, Te Oranga. It comes after a video, published by Newsroom on Tuesday, showed three staff members at the facility twice tackling a boy aged about 13 to the ground once while he was restrained in a secure room.\",\n      \"country\": \"NZ\",\n      \"author\": \"SAM SHERWOOD\",\n      \"link\": \"https://www.stuff.co.nz/national/125616953/concerns-raised-over-training-of-oranga-tamariki-staff-seen-tackling-child-in-video\",\n      \"language\": \"en\",\n      \"media\": \"https://resources.stuff.co.nz/content/dam/images/4/y/t/h/m/i/image.related.StuffLandscapeSixteenByNine.1420x800.22sent.png/1625122449869.jpg\",\n      \"title\": \"Concerns raised over training of Oranga Tamariki staff seen tackling child in video\",\n      \"media_content\": null,\n      \"clean_url\": \"stuff.co.nz\",\n      \"rights\": \"Stuff Limited.\",\n      \"rank\": \"1060\",\n      \"topic\": \"news\",\n      \"published_date\": \"2021-07-01 06:54:09\",\n      \"_id\": \"ea52618badc60482bb90eb50d994c462\",\n      \"_score\": 3.345797\n    }\n  ],\n  \"user_input\": {\n    \"q\": \"Fashion\",\n    \"search_in\": \"title_summary_en\",\n    \"lang\": \"en\",\n    \"country\": \"nz\",\n    \"from\": \"2021-07-01 00:00:00\",\n    \"to\": null,\n    \"ranked_only\": \"True\",\n    \"from_rank\": null,\n    \"to_rank\": null,\n    \"sort_by\": \"relevancy\",\n    \"page\": 1,\n    \"size\": 5,\n    \"sources\": null,\n    \"not_sources\": null,\n    \"topic\": \"news\",\n    \"media\": \"True\"\n  }\n}\n"
     ]
    }
   ],
   "source": [
    "url = \"https://newscatcher.p.rapidapi.com/v1/search\"\n",
    "\n",
    "# Searching latest fashion news in NZ\n",
    "querystring = {\"q\":\"Fashion\",\"lang\":\"en\",\"sort_by\":\"relevancy\",\"country\":\"nz\",\"topic\":\"news\",\"page\":\"1\",\"media\":\"True\", 'from': '2021-07-01'}\n",
    "\n",
    "\n",
    "response = requests.request(\"GET\", url, headers=headers, params=querystring)\n",
    "\n",
    "jsonObj = json.loads(response.text)\n",
    "print(json.dumps(jsonObj, indent = 2))"
   ]
  }
 ]
}