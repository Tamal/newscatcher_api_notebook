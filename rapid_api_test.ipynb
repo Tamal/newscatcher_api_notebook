{
 "metadata": {
  "language_info": {
   "codemirror_mode": {
    "name": "ipython",
    "version": 3
   },
   "file_extension": ".py",
   "mimetype": "text/x-python",
   "name": "python",
   "nbconvert_exporter": "python",
   "pygments_lexer": "ipython3",
   "version": "3.7.9"
  },
  "orig_nbformat": 4,
  "kernelspec": {
   "name": "python3",
   "display_name": "Python 3.7.9 64-bit ('env': venv)"
  },
  "interpreter": {
   "hash": "dd51b2024122333d0c2f5d27a3ce90bdb1562b8eeccb7dc71baff200e418b629"
  }
 },
 "nbformat": 4,
 "nbformat_minor": 2,
 "cells": [
  {
   "cell_type": "code",
   "execution_count": 14,
   "metadata": {},
   "outputs": [
    {
     "output_type": "stream",
     "name": "stdout",
     "text": [
      "{\n  \"status\": \"ok\",\n  \"articles\": [\n    {\n      \"summary\": \"The wrap\",\n      \"country\": \"NZ\",\n      \"author\": \"\",\n      \"link\": \"https://www.odt.co.nz/sport/rugby/club-rugby/gi-can-relax-others-still-have-work-do\",\n      \"language\": \"en\",\n      \"media\": null,\n      \"title\": \"GI can relax but others still have work to do\",\n      \"media_content\": null,\n      \"clean_url\": \"odt.co.nz\",\n      \"rights\": \"odt.co.nz\",\n      \"rank\": \"10332\",\n      \"topic\": \"sport\",\n      \"published_date\": \"2021-07-01 16:30:00\",\n      \"_id\": \"ea2b0a0619542d2eff7cc7ae2bb9f87e\"\n    },\n    {\n      \"summary\": \"Tim Guthrie Tim Guthrie was named referee of the week last month.\",\n      \"country\": \"NZ\",\n      \"author\": \"Adrian Seconi\",\n      \"link\": \"https://www.odt.co.nz/sport/rugby/giving-back-game\",\n      \"language\": \"en\",\n      \"media\": null,\n      \"title\": \"Giving back to the game\",\n      \"media_content\": null,\n      \"clean_url\": \"odt.co.nz\",\n      \"rights\": \"odt.co.nz\",\n      \"rank\": \"10332\",\n      \"topic\": \"sport\",\n      \"published_date\": \"2021-07-01 16:30:00\",\n      \"_id\": \"81cde7e617506169b095391de8d040ca\"\n    },\n    {\n      \"summary\": \"Green Island prop Shane Fikken lunges for the tryline during a premier match against Kaikorai at Miller Park last weekend. PHOTO: GERARD O'BRIEN Tight just does not do it justice.\",\n      \"country\": \"NZ\",\n      \"author\": \"Adrian Seconi\",\n      \"link\": \"https://www.odt.co.nz/sport/rugby/club-rugby/premier-playoff-spots-wide-open\",\n      \"language\": \"en\",\n      \"media\": null,\n      \"title\": \"Premier playoff spots wide open\",\n      \"media_content\": null,\n      \"clean_url\": \"odt.co.nz\",\n      \"rights\": \"odt.co.nz\",\n      \"rank\": \"10332\",\n      \"topic\": \"sport\",\n      \"published_date\": \"2021-07-01 16:30:00\",\n      \"_id\": \"27101667e6cb8339278ae5a252b4dea0\"\n    },\n    {\n      \"summary\": \"It is make or break for the top five teams in the Southern Region Rugby competition with only two weeks remaining in the regular season.\",\n      \"country\": \"NZ\",\n      \"author\": \"\",\n      \"link\": \"https://www.odt.co.nz/sport/rugby/club-rugby/crunch-time-most-teams-season-ticks-away\",\n      \"language\": \"en\",\n      \"media\": null,\n      \"title\": \"Crunch time for most teams as season ticks away\",\n      \"media_content\": null,\n      \"clean_url\": \"odt.co.nz\",\n      \"rights\": \"odt.co.nz\",\n      \"rank\": \"10332\",\n      \"topic\": \"sport\",\n      \"published_date\": \"2021-07-01 16:30:00\",\n      \"_id\": \"440a39c68a771a43fca7e2ecdeabffa7\"\n    },\n    {\n      \"summary\": \"Frustrations caused by suspensions, injuries and foul weather have hit three of the four Central Otago teams involved in tomorrow's premier club rugby semifinals.\",\n      \"country\": \"NZ\",\n      \"author\": \"\",\n      \"link\": \"https://www.odt.co.nz/sport/rugby/club-rugby/elements-working-against-wakatipu\",\n      \"language\": \"en\",\n      \"media\": null,\n      \"title\": \"Elements working against Wakatipu\",\n      \"media_content\": null,\n      \"clean_url\": \"odt.co.nz\",\n      \"rights\": \"odt.co.nz\",\n      \"rank\": \"10332\",\n      \"topic\": \"sport\",\n      \"published_date\": \"2021-07-01 16:30:00\",\n      \"_id\": \"573ce81f61355e9465dbd9106f42a1ee\"\n    }\n  ],\n  \"user_input\": {\n    \"lang\": \"en\",\n    \"country\": \"nz\",\n    \"topic\": \"sport\",\n    \"media\": \"True\"\n  }\n}\n"
     ]
    }
   ],
   "source": [
    "import requests\n",
    "import json\n",
    "\n",
    "# Searching Sports news in NZ\n",
    "url = \"https://newscatcher.p.rapidapi.com/v1/latest_headlines\"\n",
    "\n",
    "querystring = {\"topic\":\"sport\",\"lang\":\"en\",\"country\":\"nz\",\"media\":\"True\"}\n",
    "\n",
    "headers = {\n",
    "    'x-rapidapi-key': '159028ec9cmshaf9d7b547405139p1bfce0jsn80b85d554231',\n",
    "    'x-rapidapi-host': 'newscatcher.p.rapidapi.com'\n",
    "}\n",
    "\n",
    "response = requests.request(\"GET\", url, headers=headers, params=querystring)\n",
    "\n",
    "jsonObj = json.loads(response.text)\n",
    "print(json.dumps(jsonObj, indent = 2))"
   ]
  },
  {
   "cell_type": "code",
   "execution_count": 15,
   "metadata": {},
   "outputs": [
    {
     "output_type": "stream",
     "name": "stdout",
     "text": [
      "{\n  \"status\": \"ok\",\n  \"total_hits\": 3,\n  \"page\": 1,\n  \"total_pages\": 1,\n  \"page_size\": 3,\n  \"articles\": [\n    {\n      \"summary\": \"A surge in car thefts around the country, partly inspired through social media, has found its way to Nelson and has included 14 Mazda Demios stolen in the last five months. In May Taranaki police said a group of 30 teenagers, some as young as 13, were believed to be responsible for stealing more than 100 Mazdas in the region \\u2013 apparently inspired by a social media trend. The trend has also hit Wellington and New Plymouth in recent months \\u2013 with Mazdas seeming to be the preferred target. READ MORE: * 'Significant' increase in Wellington car theft amid Mazda trend on social media * Group of youths responsible for rising Mazda thefts in New Plymouth * Tasman district resident arrested in Picton with drugs, cash and handgun Nelson Bays area manager of investigations Detective Senior Sergeant Craig Johnston said since February, there had been 14 Mazda Demios reported as stolen in the Nelson region.\",\n      \"country\": \"NZ\",\n      \"author\": \"TIM NEWMAN\",\n      \"link\": \"https://www.stuff.co.nz/nelson-mail/125623062/mazda-theft-spree-arrives-in-nelson\",\n      \"language\": \"en\",\n      \"media\": \"https://resources.stuff.co.nz/content/dam/images/4/y/s/p/p/h/image.related.StuffLandscapeSixteenByNine.1420x800.22sjdi.png/1625115010908.jpg\",\n      \"title\": \"Mazda theft spree arrives in Nelson\",\n      \"media_content\": null,\n      \"clean_url\": \"stuff.co.nz\",\n      \"rights\": \"Stuff Limited.\",\n      \"rank\": \"1053\",\n      \"topic\": \"news\",\n      \"published_date\": \"2021-07-01 17:00:00\",\n      \"_id\": \"c82bf4a529d83d0680cdcc123970da53\",\n      \"_score\": 6.328947\n    },\n    {\n      \"summary\": \"An Auckland barber shop and tattoo parlour has been firebombed and shot up overnight amid growing gang tensions Auckland. There are fears the incident, in M\\u0101ngere, could be the first major shot in a war for control of the south Auckland suburb, Stuff understands. Police are yet to make an arrest following the attack on the business in Kirkbride Rd early on Thursday, but have confirmed they do not believe it was a random attack and say it could be linked to organised crime groups. The business, which Stuff has chosen not to identify, was totally gutted by the blaze.\",\n      \"country\": \"NZ\",\n      \"author\": \"GEORGE BLOCK\",\n      \"link\": \"https://www.stuff.co.nz/national/crime/300347442/south-auckland-barber-shop-firebombed-shot-up-amid-gang-war-fears-in-mngere\",\n      \"language\": \"en\",\n      \"media\": \"https://resources.stuff.co.nz/content/dam/images/4/y/t/h/k/5/image.related.StuffLandscapeSixteenByNine.1420x800.4ythki.png/1625119698609.jpg\",\n      \"title\": \"South Auckland barber shop firebombed, shot up, amid gang war fears in M\\u0101ngere\",\n      \"media_content\": null,\n      \"clean_url\": \"stuff.co.nz\",\n      \"rights\": \"Stuff Limited.\",\n      \"rank\": \"1060\",\n      \"topic\": \"news\",\n      \"published_date\": \"2021-07-01 06:08:10\",\n      \"_id\": \"5cdfae356e33aa081875e2c75a7c23a7\",\n      \"_score\": 5.5371556\n    },\n    {\n      \"summary\": \"The body of a Tongan vineyard worker fatally injured two weeks ago has been returned to his home country after emotional memorial services this week. Hiko Lynch, 23, was allegedly stabbed in central Blenheim during what police believe was an altercation between a gang from outside the region and three Tongans in the country on the Recognised Seasonal Employer (RSE) scheme. He died from his injuries while his two friends were taken to Blenheim's Wairau Hospital seriously wounded, in the early hours of June 20.\",\n      \"country\": \"NZ\",\n      \"author\": \"JENNIFER EDER\",\n      \"link\": \"https://www.stuff.co.nz/marlborough-express/news/125613159/vineyard-workers-body-returned-to-family-in-tonga-after-emotional-farewell\",\n      \"language\": \"en\",\n      \"media\": \"https://resources.stuff.co.nz/content/dam/images/4/y/t/b/a/u/image.related.StuffLandscapeSixteenByNine.1420x800.22sbqf.png/1625102510836.jpg\",\n      \"title\": \"Vineyard worker's body returned to family in Tonga after emotional farewell\",\n      \"media_content\": null,\n      \"clean_url\": \"stuff.co.nz\",\n      \"rights\": \"Stuff Limited.\",\n      \"rank\": \"1060\",\n      \"topic\": \"news\",\n      \"published_date\": \"2021-07-01 01:21:49\",\n      \"_id\": \"d99d5d8d302f27f3dde8daf7b9b7bc68\",\n      \"_score\": 3.5843034\n    }\n  ],\n  \"user_input\": {\n    \"q\": \"crime\",\n    \"search_in\": \"title_summary_en\",\n    \"lang\": \"en\",\n    \"country\": \"nz\",\n    \"from\": \"2021-07-01 00:00:00\",\n    \"to\": null,\n    \"ranked_only\": \"True\",\n    \"from_rank\": null,\n    \"to_rank\": null,\n    \"sort_by\": \"relevancy\",\n    \"page\": 1,\n    \"size\": 5,\n    \"sources\": null,\n    \"not_sources\": null,\n    \"topic\": \"news\",\n    \"media\": \"True\"\n  }\n}\n"
     ]
    }
   ],
   "source": [
    "url = \"https://newscatcher.p.rapidapi.com/v1/search\"\n",
    "\n",
    "# Searching crime news in NZ\n",
    "querystring = {\"q\":\"crime\",\"lang\":\"en\",\"sort_by\":\"relevancy\",\"country\":\"nz\",\"topic\":\"news\",\"page\":\"1\",\"media\":\"True\", 'from': '2021-07-01'}\n",
    "\n",
    "response = requests.request(\"GET\", url, headers=headers, params=querystring)\n",
    "\n",
    "jsonObj = json.loads(response.text)\n",
    "print(json.dumps(jsonObj, indent = 2))"
   ]
  },
  {
   "cell_type": "code",
   "execution_count": 16,
   "metadata": {},
   "outputs": [
    {
     "output_type": "stream",
     "name": "stdout",
     "text": [
      "{\n  \"status\": \"ok\",\n  \"articles\": [\n    {\n      \"summary\": \"The brother of a New Zealander who died from Covid-19 in Thailand has described his older sibling as a \\\"leader\\\" and \\\"the heart and soul of the family\\\". John Murray, 74, died in a Bangkok hospital on ...\",\n      \"country\": \"NZ\",\n      \"author\": \"newsfeeds@nzherald.co.nz\",\n      \"link\": \"https://www.nzherald.co.nz/nz/news/article.cfm?c_id=1&objectid=12454725&ref=rss\",\n      \"language\": \"en\",\n      \"media\": null,\n      \"title\": \"'I'm just going to get tested': Heartbreak after Kiwi father of six dies of Covid\",\n      \"media_content\": null,\n      \"clean_url\": \"nzherald.co.nz\",\n      \"rights\": \"Copyright 2009 APN HOLDINGS NZ\",\n      \"rank\": \"1201\",\n      \"topic\": \"news\",\n      \"published_date\": \"2021-07-01 17:14:13\",\n      \"_id\": \"c9a0b6707beb84a25401d5ce11aad1ca\"\n    },\n    {\n      \"summary\": \"ANALYSIS: Derek Cheng takes a deep dive into why people consider the vaccine rollout to be a shambles, how the Government's rhetoric matches with the delivery, and what should have been done differently ...\",\n      \"country\": \"NZ\",\n      \"author\": \"newsfeeds@nzherald.co.nz\",\n      \"link\": \"https://www.nzherald.co.nz/nz/news/article.cfm?c_id=1&objectid=12454630&ref=rss\",\n      \"language\": \"en\",\n      \"media\": null,\n      \"title\": \"Derek Cheng: Shambles of a rollout? How Govt's delivery failed to meet rhetoric\",\n      \"media_content\": null,\n      \"clean_url\": \"nzherald.co.nz\",\n      \"rights\": \"Copyright 2009 APN HOLDINGS NZ\",\n      \"rank\": \"1201\",\n      \"topic\": \"news\",\n      \"published_date\": \"2021-07-01 17:13:14\",\n      \"_id\": \"fb3b90cad5f9ae0c6944dd8abfccfe0e\"\n    },\n    {\n      \"summary\": \"Covid-19 Response Minister Chris Hipkins says the Government has done all it can to get as many Pfizer vaccine doses as soon as possible - but throwing more money at the pharmaceutical giant to jump the ...\",\n      \"country\": \"NZ\",\n      \"author\": \"newsfeeds@nzherald.co.nz\",\n      \"link\": \"https://www.nzherald.co.nz/nz/news/article.cfm?c_id=1&objectid=12454662&ref=rss\",\n      \"language\": \"en\",\n      \"media\": null,\n      \"title\": \"Throwing more money at Pfizer to jump the queue 'unethical'\",\n      \"media_content\": null,\n      \"clean_url\": \"nzherald.co.nz\",\n      \"rights\": \"Copyright 2009 APN HOLDINGS NZ\",\n      \"rank\": \"1201\",\n      \"topic\": \"news\",\n      \"published_date\": \"2021-07-01 17:12:56\",\n      \"_id\": \"fc7355d1795302f26af9864214090208\"\n    },\n    {\n      \"summary\": \"The researcher behind a weight-loss device which has been condemned around the world says his invention has been misunderstood. Lead researcher and University of Otago health sciences pro-vice-chancellor ...\",\n      \"country\": \"NZ\",\n      \"author\": \"newsfeeds@nzherald.co.nz\",\n      \"link\": \"https://www.nzherald.co.nz/nz/news/article.cfm?c_id=1&objectid=12454758&ref=rss\",\n      \"language\": \"en\",\n      \"media\": null,\n      \"title\": \"Negative feedback on weight-loss device 'hurtful', says researcher\",\n      \"media_content\": null,\n      \"clean_url\": \"nzherald.co.nz\",\n      \"rights\": \"Copyright 2009 APN HOLDINGS NZ\",\n      \"rank\": \"1201\",\n      \"topic\": \"news\",\n      \"published_date\": \"2021-07-01 17:12:02\",\n      \"_id\": \"328774efa2371f638bf31b53e7aecdff\"\n    },\n    {\n      \"summary\": \"The Government has released the dates for the Matariki public holiday for the next 30 years. Making Matariki a public holiday was one of Prime Minister Jacinda Ardern's pre-election promises with the ...\",\n      \"country\": \"NZ\",\n      \"author\": \"newsfeeds@nzherald.co.nz\",\n      \"link\": \"https://www.nzherald.co.nz/nz/news/article.cfm?c_id=1&objectid=12454754&ref=rss\",\n      \"language\": \"en\",\n      \"media\": null,\n      \"title\": \"Save the date: Matariki public holidays for next 30 years revealed\",\n      \"media_content\": null,\n      \"clean_url\": \"nzherald.co.nz\",\n      \"rights\": \"Copyright 2009 APN HOLDINGS NZ\",\n      \"rank\": \"1201\",\n      \"topic\": \"news\",\n      \"published_date\": \"2021-07-01 17:07:25\",\n      \"_id\": \"796a0495c82173e913cad46e40895e85\"\n    }\n  ],\n  \"user_input\": {\n    \"lang\": \"en\",\n    \"country\": \"nz\",\n    \"topic\": \"news\",\n    \"media\": \"True\"\n  }\n}\n"
     ]
    }
   ],
   "source": [
    "\n",
    "# Searching general news in New Zealand\n",
    "url = \"https://newscatcher.p.rapidapi.com/v1/latest_headlines\"\n",
    "\n",
    "querystring = {\"topic\":\"news\",\"lang\":\"en\",\"country\":\"nz\",\"media\":\"True\"}\n",
    "\n",
    "response = requests.request(\"GET\", url, headers=headers, params=querystring)\n",
    "\n",
    "jsonObj = json.loads(response.text)\n",
    "print(json.dumps(jsonObj, indent = 2))"
   ]
  },
  {
   "cell_type": "code",
   "execution_count": 17,
   "metadata": {},
   "outputs": [
    {
     "output_type": "stream",
     "name": "stdout",
     "text": [
      "{\n  \"status\": \"ok\",\n  \"articles\": [\n    {\n      \"summary\": \"\",\n      \"country\": \"AU\",\n      \"author\": \"\",\n      \"link\": \"https://www.couriermail.com.au/subscribe/news/1/\",\n      \"language\": \"en\",\n      \"media\": null,\n      \"title\": \"Here's what you can expect with today's Redcliffe weather\",\n      \"media_content\": null,\n      \"clean_url\": \"couriermail.com.au\",\n      \"rights\": \"couriermail.com.au\",\n      \"rank\": \"4826\",\n      \"topic\": \"news\",\n      \"published_date\": \"2021-07-01 17:31:50\",\n      \"_id\": \"d104a53d39c750c6c38e8bb61dc438cc\"\n    },\n    {\n      \"summary\": \"Drone footage recorded on June 30 shows rescue and recovery efforts at the site of the partially collapsed Champlain Towers South condo, a day before operations were halted in Surfside over worries that additional portions could fall over. Miami-Dade County Mayor Daniella Levine Cava said on Thursday morning that the pause, which began overnight, was due to 'structural concerns.' Levine Cava and other local and state politicians including Gov Ron DeSantis met with President Biden after he arrived in Miami on Thursday.\",\n      \"country\": \"AU\",\n      \"author\": \"9 minutes agoStoryful\",\n      \"link\": \"https://www.heraldsun.com.au/news/national/drone-footage-shows-rescue-and-recovery-efforts-six-days-after-surfside-condo-collapse/video/79cc8419aa43f7e2f786ab508642cda9\",\n      \"language\": \"en\",\n      \"media\": \"https://content.api.news/v3/images/bin/516f78fb69c36cefb28bedaebd6767a8\",\n      \"title\": \"Drone Footage Shows Rescue and Recovery Efforts Six Days After Surfside Condo Collapse\",\n      \"media_content\": null,\n      \"clean_url\": \"heraldsun.com.au\",\n      \"rights\": \"heraldsun.com.au\",\n      \"rank\": \"2650\",\n      \"topic\": \"news\",\n      \"published_date\": \"2021-07-01 17:20:05\",\n      \"_id\": \"6bbc2eeb09fbdb97e40f164c95afadaa\"\n    },\n    {\n      \"summary\": \"Drone footage recorded on June 30 shows rescue and recovery efforts at the site of the partially collapsed Champlain Towers South condo, a day before operations were halted in Surfside over worries that additional portions could fall over. Miami-Dade County Mayor Daniella Levine Cava said on Thursday morning that the pause, which began overnight, was due to 'structural concerns.' Levine Cava and other local and state politicians including Gov Ron DeSantis met with President Biden after he arrived in Miami on Thursday.\",\n      \"country\": \"AU\",\n      \"author\": \"12 minutes agoStoryful\",\n      \"link\": \"https://www.couriermail.com.au/news/national/drone-footage-shows-rescue-and-recovery-efforts-six-days-after-surfside-condo-collapse/video/79cc8419aa43f7e2f786ab508642cda9\",\n      \"language\": \"en\",\n      \"media\": \"https://content.api.news/v3/images/bin/516f78fb69c36cefb28bedaebd6767a8\",\n      \"title\": \"Drone Footage Shows Rescue and Recovery Efforts Six Days After Surfside Condo Collapse\",\n      \"media_content\": null,\n      \"clean_url\": \"couriermail.com.au\",\n      \"rights\": \"couriermail.com.au\",\n      \"rank\": \"4826\",\n      \"topic\": \"news\",\n      \"published_date\": \"2021-07-01 17:20:05\",\n      \"_id\": \"31052596532e36766d3d40a34e730391\"\n    },\n    {\n      \"summary\": \"Drone footage recorded on June 30 shows rescue and recovery efforts at the site of the partially collapsed Champlain Towers South condo, a day before operations were halted in Surfside over worries that additional portions could fall over. Miami-Dade County Mayor Daniella Levine Cava said on Thursday morning that the pause, which began overnight, was due to 'structural concerns.' Levine Cava and other local and state politicians including Gov Ron DeSantis met with President Biden after he arrived in Miami on Thursday.\",\n      \"country\": \"AU\",\n      \"author\": \"\",\n      \"link\": \"https://www.goldcoastbulletin.com.au/news/national/drone-footage-shows-rescue-and-recovery-efforts-six-days-after-surfside-condo-collapse/video/79cc8419aa43f7e2f786ab508642cda9\",\n      \"language\": \"en\",\n      \"media\": null,\n      \"title\": \"Drone Footage Shows Rescue and Recovery Efforts Six Days After Surfside Condo Collapse\",\n      \"media_content\": null,\n      \"clean_url\": \"goldcoastbulletin.com.au\",\n      \"rights\": \"goldcoastbulletin.com.au\",\n      \"rank\": \"24727\",\n      \"topic\": \"news\",\n      \"published_date\": \"2021-07-01 17:20:05\",\n      \"_id\": \"55562dcdda49c431f070ed974fa8a44d\"\n    },\n    {\n      \"summary\": \"Finland supporters at their team's game against Russia in Saint PetersburgAs Euro 2020 heads towards its conclusion, and ever larger crowds flock to matches, there are increasing concerns about games becoming super-spreader events as the Delta variant of coronavirus fuels a rise in infections around Europe.With vaccination progressing fast across the continent and people eagerly anticipating the holiday season, it is tempting to view large crowds at European Championship matches and gathering in cities as a sign of life returning to normal.\",\n      \"country\": \"AU\",\n      \"author\": \"less than 2 min readJuly 2, 2021 - 3:03AMAFP\",\n      \"link\": \"https://www.news.com.au/breaking-news/from-london-to-saint-petersburg-euro-2020-raises-fears-of-new-virus-spread/news-story/774dd4dec742b733aa87f4e68bb2af92\",\n      \"language\": \"en\",\n      \"media\": null,\n      \"title\": \"From London to Saint Petersburg, Euro 2020 raises fears of new virus spread\",\n      \"media_content\": null,\n      \"clean_url\": \"news.com.au\",\n      \"rights\": \"news.com.au\",\n      \"rank\": \"2650\",\n      \"topic\": \"news\",\n      \"published_date\": \"2021-07-01 17:03:10\",\n      \"_id\": \"42e7538d0af8ec4d6341a333c754ee37\"\n    }\n  ],\n  \"user_input\": {\n    \"lang\": \"en\",\n    \"country\": \"au\",\n    \"topic\": \"news\",\n    \"media\": \"True\"\n  }\n}\n"
     ]
    }
   ],
   "source": [
    "\n",
    "# Searching general news in Australia\n",
    "url = \"https://newscatcher.p.rapidapi.com/v1/latest_headlines\"\n",
    "\n",
    "querystring = {\"topic\":\"news\",\"lang\":\"en\",\"country\":\"au\",\"media\":\"True\"}\n",
    "\n",
    "response = requests.request(\"GET\", url, headers=headers, params=querystring)\n",
    "\n",
    "jsonObj = json.loads(response.text)\n",
    "print(json.dumps(jsonObj, indent = 2))"
   ]
  },
  {
   "cell_type": "code",
   "execution_count": 18,
   "metadata": {},
   "outputs": [
    {
     "output_type": "stream",
     "name": "stdout",
     "text": [
      "{\n  \"status\": \"ok\",\n  \"total_hits\": 3,\n  \"page\": 1,\n  \"total_pages\": 1,\n  \"page_size\": 3,\n  \"articles\": [\n    {\n      \"summary\": \"Children's Minister Kelvin Davis has stopped short of saying abuse that closed an Oranga Tamariki residence is systemic, but says the future of staff involved is \\\"up in the air\\\". Davis said chief executive Sir Wira Gardiner had made the right decision in temporarily shutting the facility down after footage emerged of a young person being tackled and held in a headlock. \\\"I back him 100 per cent. There were a number of factors that fed into him making that decision, and it was the right one to make .\",\n      \"country\": \"NZ\",\n      \"author\": \"Stuff\",\n      \"link\": \"https://www.stuff.co.nz/national/300347441/oranga-tamariki-staff-did-wrong-and-face-losing-jobs--davis\",\n      \"language\": \"en\",\n      \"media\": \"https://resources.stuff.co.nz/content/dam/images/4/y/s/y/r/3/image.related.StuffLandscapeSixteenByNine.1420x800.4ythkh.png/1625117623059.jpg\",\n      \"title\": \"Oranga Tamariki staff did wrong and face losing jobs\",\n      \"media_content\": null,\n      \"clean_url\": \"stuff.co.nz\",\n      \"rights\": \"Stuff Limited.\",\n      \"rank\": \"1060\",\n      \"topic\": \"news\",\n      \"published_date\": \"2021-07-01 05:33:42\",\n      \"_id\": \"9e5b801fd9f8c71c419a14b64bf2bb27\",\n      \"_score\": 4.046259\n    },\n    {\n      \"summary\": \"Dilapidated and dangerous. A fatal incident just waiting to happening. This is how children and staff at theOranga Tamariki home in Epuni have described the institution, where children are routinely harming themselves. 'The moment they walk in here their innocence just gets ripped away from them and tossed in the trash,\\\" one young resident said in a March 2021 report from the Office of the Children's Commissioner report, obtained by Stuff under the Official Information Act. The report comes amid a fraught time for child welfare agency Oranga Tamariki (OT): an Education Review Office report on Wednesday said it was failing children in residential care; video emerged of a child being tackled and put in a headlock by staff at a secure care facility; and the Royal Commission of Inquiry into Abuse in Care recently turning its focus to historical physical and sexual abuse at the home.\",\n      \"country\": \"NZ\",\n      \"author\": \"TOM HUNT\",\n      \"link\": \"https://www.stuff.co.nz/dominion-post/news/wellington/125617427/epuni-home-their-innocence-just-gets-ripped-away-from-them-and-tossed-in-the-trash\",\n      \"language\": \"en\",\n      \"media\": \"https://resources.stuff.co.nz/content/dam/images/4/y/p/y/k/p/image.related.StuffLandscapeSixteenByNine.1420x800.22sf0z.png/1625127825297.jpg\",\n      \"title\": \"Epuni home: 'Their innocence just gets ripped away from them and tossed in the trash'\",\n      \"media_content\": null,\n      \"clean_url\": \"stuff.co.nz\",\n      \"rights\": \"Stuff Limited.\",\n      \"rank\": \"1053\",\n      \"topic\": \"news\",\n      \"published_date\": \"2021-07-01 17:00:00\",\n      \"_id\": \"5d573cde12b520c3c882f89cb3c2f0a0\",\n      \"_score\": 3.8725636\n    },\n    {\n      \"summary\": \"None of the staff at a care and protection residence where youth workers allegedly used excessive force on a teen had received refresher training on techniques for physical interventions, a union says. Oranga Tamariki chief executive Sir Wira Gardiner announced on Thursday that the agency would close care and protection residence in Christchurch, Te Oranga. It comes after a video, published by Newsroom on Tuesday, showed three staff members at the facility twice tackling a boy aged about 13 to the ground once while he was restrained in a secure room.\",\n      \"country\": \"NZ\",\n      \"author\": \"SAM SHERWOOD\",\n      \"link\": \"https://www.stuff.co.nz/national/125616953/concerns-raised-over-training-of-oranga-tamariki-staff-seen-tackling-child-in-video\",\n      \"language\": \"en\",\n      \"media\": \"https://resources.stuff.co.nz/content/dam/images/4/y/t/h/m/i/image.related.StuffLandscapeSixteenByNine.1420x800.22sent.png/1625122449869.jpg\",\n      \"title\": \"Concerns raised over training of Oranga Tamariki staff seen tackling child in video\",\n      \"media_content\": null,\n      \"clean_url\": \"stuff.co.nz\",\n      \"rights\": \"Stuff Limited.\",\n      \"rank\": \"1060\",\n      \"topic\": \"news\",\n      \"published_date\": \"2021-07-01 06:54:09\",\n      \"_id\": \"ea52618badc60482bb90eb50d994c462\",\n      \"_score\": 3.3362322\n    }\n  ],\n  \"user_input\": {\n    \"q\": \"Fashion\",\n    \"search_in\": \"title_summary_en\",\n    \"lang\": \"en\",\n    \"country\": \"nz\",\n    \"from\": \"2021-07-01 00:00:00\",\n    \"to\": null,\n    \"ranked_only\": \"True\",\n    \"from_rank\": null,\n    \"to_rank\": null,\n    \"sort_by\": \"relevancy\",\n    \"page\": 1,\n    \"size\": 5,\n    \"sources\": null,\n    \"not_sources\": null,\n    \"topic\": \"news\",\n    \"media\": \"True\"\n  }\n}\n"
     ]
    }
   ],
   "source": [
    "url = \"https://newscatcher.p.rapidapi.com/v1/search\"\n",
    "\n",
    "# Searching latest fashion news in NZ\n",
    "querystring = {\"q\":\"Fashion\",\"lang\":\"en\",\"sort_by\":\"relevancy\",\"country\":\"nz\",\"topic\":\"news\",\"page\":\"1\",\"media\":\"True\", 'from': '2021-07-01'}\n",
    "\n",
    "\n",
    "response = requests.request(\"GET\", url, headers=headers, params=querystring)\n",
    "\n",
    "jsonObj = json.loads(response.text)\n",
    "print(json.dumps(jsonObj, indent = 2))"
   ]
  },
  {
   "cell_type": "code",
   "execution_count": 19,
   "metadata": {},
   "outputs": [
    {
     "output_type": "stream",
     "name": "stdout",
     "text": [
      "{\n  \"status\": \"No matches for your search.\",\n  \"user_input\": {\n    \"q\": \"automobile\",\n    \"search_in\": \"title_summary_en\",\n    \"lang\": \"en\",\n    \"country\": \"nz\",\n    \"from\": \"2021-07-01 00:00:00\",\n    \"to\": null,\n    \"ranked_only\": \"True\",\n    \"from_rank\": null,\n    \"to_rank\": null,\n    \"sort_by\": \"relevancy\",\n    \"page\": 1,\n    \"size\": 5,\n    \"sources\": null,\n    \"not_sources\": null,\n    \"topic\": \"news\",\n    \"media\": \"True\"\n  }\n}\n"
     ]
    }
   ],
   "source": [
    "url = \"https://newscatcher.p.rapidapi.com/v1/search\"\n",
    "\n",
    "# Searching latest automobile news in NZ\n",
    "querystring = {\"q\":\"automobile\",\"lang\":\"en\",\"sort_by\":\"relevancy\",\"country\":\"nz\",\"topic\":\"news\",\"page\":\"1\",\"media\":\"True\", 'from': '2021-07-01'}\n",
    "\n",
    "\n",
    "response = requests.request(\"GET\", url, headers=headers, params=querystring)\n",
    "\n",
    "jsonObj = json.loads(response.text)\n",
    "print(json.dumps(jsonObj, indent = 2))"
   ]
  },
  {
   "cell_type": "code",
   "execution_count": 20,
   "metadata": {},
   "outputs": [
    {
     "output_type": "stream",
     "name": "stdout",
     "text": [
      "{\n  \"status\": \"ok\",\n  \"articles\": [\n    {\n      \"summary\": \"Thursday, 1 July 2021, 5:44 pm Press Release: SKYCITY Celebrate Matariki, the M\\u0101ori new year at SkyCity with kai, k\\u014drero, and entertainment for the whole wh\\u0101nau.To signify the start of the Matariki activations on 2 July, SkyCity Auckland will host a Rising Ceremony led by Ng\\u0101ti Wh\\u0101tua \\u014cr\\u0101kei.Later that evening the Sky Tower will light up the T\\u0101maki Makaurau skyline with a light display acknowledging the rising of the Matariki sky, by mirroring a sunrise.From 3 - 9 July, the Sky Tower will move between blue and purple for Te Tirohanga, the viewing of the Matariki constellation, ending the ceremony by mimicking the sunset.\",\n      \"country\": \"NZ\",\n      \"author\": null,\n      \"link\": \"https://www.scoop.co.nz/stories/CU2107/S00012/matariki-ki-runga-at-skycity.htm\",\n      \"language\": \"en\",\n      \"media\": \"http://img.scoop.co.nz/stories/images/1908/scoop_image.jpg\",\n      \"title\": \"Matariki Ki Runga At SkyCity!\",\n      \"media_content\": null,\n      \"clean_url\": \"scoop.co.nz\",\n      \"rights\": \"Scoop Media Ltd and/or its contributors\",\n      \"rank\": \"4578\",\n      \"topic\": \"food\",\n      \"published_date\": \"2021-07-01 05:44:00\",\n      \"_id\": \"a75e381e272dde5656837a9b77513231\"\n    },\n    {\n      \"summary\": \"The Mataura Community Board has bought two sections in Nuffield St and plans to move the town's former Railway Station there. The board may have to spend a further $40,000 to meet the criteria to be able to apply for funding to restore the building once it has been relocated. Community board chairman Alan Taylor was reluctant to say how much the board had paid for two sections, which were next to Queens Park. 'One was negotiated through foreign interests,'' he said. READ MORE: * Pukekohe's historical railway station building faces demolition * Future of Mataura Railway Station hangs in the balance * Funding delay for Mataura intersection upgrade * Councillors cast doubts over Mataura Railway Station costs Taylor said the board had a quote of $60,000 to move the building from its present site to Nuffield St and put it on piles, and it had the funds available for that.\",\n      \"country\": \"NZ\",\n      \"author\": \"RACHAEL KELLY\",\n      \"link\": \"https://www.stuff.co.nz/southland-times/news/125618568/mataura-railway-station-to-go-to-new-site\",\n      \"language\": \"en\",\n      \"media\": \"https://resources.stuff.co.nz/content/dam/images/4/y/p/q/l/8/image.related.StuffLandscapeSixteenByNine.1420x800.22sfwo.png/1625110717432.jpg\",\n      \"title\": \"Mataura Railway Station to go to new site\",\n      \"media_content\": null,\n      \"clean_url\": \"stuff.co.nz\",\n      \"rights\": \"Stuff Limited.\",\n      \"rank\": \"1060\",\n      \"topic\": \"food\",\n      \"published_date\": \"2021-07-01 03:38:37\",\n      \"_id\": \"dae65c6356e9c6b9c5131032f44e58e9\"\n    },\n    {\n      \"summary\": \"A seafood sandwich with personality and a fancy ham and cheese number have put Marlborough on New Zealand's toastie map. Twelve finalists have been named in this year's Great New Zealand Toastie Takeover, with new Picton cafe, Toastie, and Mollies Bar and Eatery, at Blenheim's Hotel d'Urville, the only two for the Upper South Island. Toastie Picton owners Taylor and Daniel Hamilton, who only opened the place in May, entered \\u2018Pete from Picton'.Toastie Picton owners Daniel and Taylor Hamilton personify all their toasties.\",\n      \"country\": \"NZ\",\n      \"author\": \"MORGANE SOLIGNAC\",\n      \"link\": \"https://www.stuff.co.nz/life-style/food-drink/300346642/the-toast-of-marlborough-two-sandwiches-reach-toastie-takeover-final\",\n      \"language\": \"en\",\n      \"media\": \"https://resources.stuff.co.nz/content/dam/images/4/y/t/g/r/c/image.related.StuffLandscapeSixteenByNine.1420x800.4ytgya.png/1625101565690.jpg\",\n      \"title\": \"The toast of Marlborough: Two sandwiches reach toastie takeover final\",\n      \"media_content\": null,\n      \"clean_url\": \"stuff.co.nz\",\n      \"rights\": \"Stuff Limited.\",\n      \"rank\": \"1060\",\n      \"topic\": \"food\",\n      \"published_date\": \"2021-07-01 01:06:04\",\n      \"_id\": \"72e9d3c45e88d8a055994cead7e08324\"\n    },\n    {\n      \"summary\": \"Matariki celebrations will continue to light up Christchurch over the next 10 days with live entertainment and events.\",\n      \"country\": \"NZ\",\n      \"author\": \"\",\n      \"link\": \"https://www.odt.co.nz/star-news/star-christchurch/matariki-ushers-winter-events-christchurch\",\n      \"language\": \"en\",\n      \"media\": null,\n      \"title\": \"Matariki ushers in winter events in Christchurch\",\n      \"media_content\": null,\n      \"clean_url\": \"odt.co.nz\",\n      \"rights\": \"odt.co.nz\",\n      \"rank\": \"10319\",\n      \"topic\": \"food\",\n      \"published_date\": \"2021-06-30 21:35:00\",\n      \"_id\": \"c62b29a0145b866c7e8ea7d3ca554faa\"\n    },\n    {\n      \"summary\": \"Whether you consider yourself a wine connoisseur or just vino curious, Christchurch's newest event is the place to experience all things wine. New Zealand's top wineries and wine lovers will gather together on July 9 and 10 for Winetopia \\u2013 two evenings of tasting, eating, masterclasses and entertainment. It features 45 wineries from Central Otago to North Canterbury, Marlborough to Hawke's Bay, and all the way to Northland. This will be the first time Winetopia has been held in the South Island. Thousands of wine lovers attended the event in Wellington and Auckland in the past two months.\",\n      \"country\": \"NZ\",\n      \"author\": \"KRISTIE BOLAND\",\n      \"link\": \"https://www.stuff.co.nz/the-press/christchurch-life/125596873/winetopia-comes-to-christchurch-after-delighting-north-island-palates\",\n      \"language\": \"en\",\n      \"media\": \"https://resources.stuff.co.nz/content/dam/images/4/y/t/f/n/9/image.related.StuffLandscapeSixteenByNine.1420x800.22rz61.png/1624932478436.jpg\",\n      \"title\": \"Winetopia comes to Christchurch after delighting North Island palates\",\n      \"media_content\": null,\n      \"clean_url\": \"stuff.co.nz\",\n      \"rights\": \"Stuff Limited.\",\n      \"rank\": \"1059\",\n      \"topic\": \"food\",\n      \"published_date\": \"2021-06-30 04:50:00\",\n      \"_id\": \"cbfab04d97e3167ead1222ee8c7bf7a5\"\n    }\n  ],\n  \"user_input\": {\n    \"lang\": \"en\",\n    \"country\": \"nz\",\n    \"topic\": \"food\",\n    \"media\": \"True\"\n  }\n}\n"
     ]
    }
   ],
   "source": [
    "url = \"https://newscatcher.p.rapidapi.com/v1/latest_headlines\"\n",
    "\n",
    "# Latest news about Food in NZ\n",
    "querystring = {\"topic\":\"food\",\"lang\":\"en\",\"country\":\"nz\",\"media\":\"True\"}\n",
    "\n",
    "\n",
    "response = requests.request(\"GET\", url, headers=headers, params=querystring)\n",
    "\n",
    "jsonObj = json.loads(response.text)\n",
    "print(json.dumps(jsonObj, indent = 2))"
   ]
  }
 ]
}