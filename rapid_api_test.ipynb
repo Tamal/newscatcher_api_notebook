{
 "cells": [
  {
   "cell_type": "code",
   "execution_count": null,
   "metadata": {},
   "outputs": [],
   "source": [
    "import requests\n",
    "import json\n",
    "\n",
    "from datetime import date\n",
    "\n",
    "headers = {\n",
    "    # 'x-rapidapi-key': '159028ec9cmshaf9d7b547405139p1bfce0jsn80b85d554231',\n",
    "    # 'x-rapidapi-host': 'newscatcher.p.rapidapi.com'\n",
    "    'x-rapidapi-key': '159028ec9cmshaf9d7b547405139p1bfce0jsn80b85d554231',\n",
    "    # 'x-rapidapi-host': 'newscatcher-v2.p.rapidapi.com'\n",
    "}\n",
    "\n",
    "today = date.today()\n",
    "print(\"Fetching news articles of:\", today)\n"
   ]
  },
  {
   "cell_type": "code",
   "execution_count": null,
   "metadata": {},
   "outputs": [],
   "source": [
    "\n",
    "# Searching Covid-19 news\n",
    "url = \"https://newscatcher-v2.p.rapidapi.com/v1/search\"\n",
    "\n",
    "querystring = {\"q\":\"covid\",\"lang\":\"en\",\"sort_by\":\"relevancy\",\"topic\":\"news\",\"page\":\"1\", 'from': today}\n",
    "\n",
    "response = requests.request(\"GET\", url, headers=headers, params=querystring)\n",
    "\n",
    "jsonObj = json.loads(response.text)\n",
    "print(json.dumps(jsonObj, indent = 2))"
   ]
  },
  {
   "cell_type": "code",
   "execution_count": null,
   "metadata": {},
   "outputs": [],
   "source": [
    "# Searching Sports news in NZ\n",
    "url = \"https://newscatcher-v2.p.rapidapi.com/v1/search\"\n",
    "querystring = {\"q\":\"*\", \"topic\":\"sport\",\"lang\":\"en\",\"countries\":\"nz\", \"sort_by\": \"date\"}\n",
    "\n",
    "response = requests.request(\"GET\", url, headers=headers, params=querystring)\n",
    "\n",
    "jsonObj = json.loads(response.text)\n",
    "print(json.dumps(jsonObj, indent = 2))"
   ]
  },
  {
   "cell_type": "code",
   "execution_count": null,
   "metadata": {},
   "outputs": [],
   "source": [
    "url = \"https://newscatcher-v2.p.rapidapi.com/v1/search\"\n",
    "\n",
    "# Searching crime news in NZ\n",
    "querystring = {\"q\":\"crime\",\"lang\":\"en\",\"sort_by\":\"relevancy\",\"countries\":\"nz\",\"topic\":\"news\",\"page\":\"1\", 'from': today}\n",
    "\n",
    "response = requests.request(\"GET\", url, headers=headers, params=querystring)\n",
    "\n",
    "jsonObj = json.loads(response.text)\n",
    "print(json.dumps(jsonObj, indent = 2))"
   ]
  },
  {
   "cell_type": "code",
   "execution_count": null,
   "metadata": {},
   "outputs": [],
   "source": [
    "\n",
    "# Searching general news in New Zealand\n",
    "url = \"https://newscatcher-v2.p.rapidapi.com/v1/search\"\n",
    "\n",
    "querystring = {\"q\": \"*\",\"sort_by\": \"date\",\"topic\":\"news\",\"lang\":\"en\",\"countries\":\"nz\"}\n",
    "\n",
    "response = requests.request(\"GET\", url, headers=headers, params=querystring)\n",
    "\n",
    "jsonObj = json.loads(response.text)\n",
    "print(json.dumps(jsonObj, indent = 2))"
   ]
  },
  {
   "cell_type": "code",
   "execution_count": null,
   "metadata": {},
   "outputs": [],
   "source": [
    "\n",
    "# Searching general news in Australia\n",
    "url = \"https://newscatcher-v2.p.rapidapi.com/v1/search\"\n",
    "\n",
    "querystring = {\"q\": \"*\",\"sort_by\": \"date\",\"topic\":\"news\",\"lang\":\"en\",\"countries\":\"au\"}\n",
    "\n",
    "response = requests.request(\"GET\", url, headers=headers, params=querystring)\n",
    "\n",
    "jsonObj = json.loads(response.text)\n",
    "print(json.dumps(jsonObj, indent = 2))"
   ]
  },
  {
   "cell_type": "code",
   "execution_count": null,
   "metadata": {},
   "outputs": [],
   "source": [
    "# Searching general news in India\n",
    "url = \"https://newscatcher-v2.p.rapidapi.com/v1/search\"\n",
    "\n",
    "querystring = {\"q\": \"*\",\"sort_by\": \"date\",\"topic\":\"news\",\"lang\":\"en\",\"countries\":\"in\"}\n",
    "\n",
    "response = requests.request(\"GET\", url, headers=headers, params=querystring)\n",
    "\n",
    "jsonObj = json.loads(response.text)\n",
    "print(json.dumps(jsonObj, indent = 2))"
   ]
  },
  {
   "cell_type": "code",
   "execution_count": null,
   "metadata": {},
   "outputs": [],
   "source": [
    "# Searching general news about World\n",
    "url = \"https://newscatcher-v2.p.rapidapi.com/v1/search\"\n",
    "\n",
    "querystring = {\"q\": \"*\",\"sort_by\": \"date\",\"topic\":\"news\",\"lang\":\"en\"}\n",
    "\n",
    "response = requests.request(\"GET\", url, headers=headers, params=querystring)\n",
    "\n",
    "jsonObj = json.loads(response.text)\n",
    "print(json.dumps(jsonObj, indent = 2))"
   ]
  },
  {
   "cell_type": "code",
   "execution_count": null,
   "metadata": {},
   "outputs": [],
   "source": [
    "# Searching general news about Technology\n",
    "url = \"https://newscatcher-v2.p.rapidapi.com/v1/search\"\n",
    "\n",
    "querystring = {\"q\": \"*\",\"sort_by\": \"date\",\"topic\":\"tech\",\"lang\":\"en\"}\n",
    "\n",
    "response = requests.request(\"GET\", url, headers=headers, params=querystring)\n",
    "\n",
    "jsonObj = json.loads(response.text)\n",
    "print(json.dumps(jsonObj, indent = 2))"
   ]
  },
  {
   "cell_type": "code",
   "execution_count": null,
   "metadata": {},
   "outputs": [],
   "source": [
    "# Searching general news about Business\n",
    "url = \"https://newscatcher-v2.p.rapidapi.com/v1/search\"\n",
    "\n",
    "querystring = {\"q\": \"*\",\"sort_by\": \"date\",\"topic\":\"business\",\"lang\":\"en\"}\n",
    "\n",
    "response = requests.request(\"GET\", url, headers=headers, params=querystring)\n",
    "\n",
    "jsonObj = json.loads(response.text)\n",
    "print(json.dumps(jsonObj, indent = 2))"
   ]
  },
  {
   "cell_type": "code",
   "execution_count": null,
   "metadata": {},
   "outputs": [],
   "source": [
    "# Searching general news about Finance/Stock Market\n",
    "url = \"https://newscatcher-v2.p.rapidapi.com/v1/search\"\n",
    "\n",
    "querystring = {\"q\": \"*\",\"sort_by\": \"date\",\"topic\":\"finance\",\"lang\":\"en\"}\n",
    "\n",
    "response = requests.request(\"GET\", url, headers=headers, params=querystring)\n",
    "\n",
    "jsonObj = json.loads(response.text)\n",
    "print(json.dumps(jsonObj, indent = 2))"
   ]
  },
  {
   "cell_type": "code",
   "execution_count": null,
   "metadata": {},
   "outputs": [],
   "source": [
    "# Searching general news about Travel\n",
    "url = \"https://newscatcher-v2.p.rapidapi.com/v1/search\"\n",
    "\n",
    "querystring = {\"q\": \"*\",\"sort_by\": \"date\",\"topic\":\"travel\",\"lang\":\"en\"}\n",
    "\n",
    "response = requests.request(\"GET\", url, headers=headers, params=querystring)\n",
    "\n",
    "jsonObj = json.loads(response.text)\n",
    "print(json.dumps(jsonObj, indent = 2))"
   ]
  },
  {
   "cell_type": "code",
   "execution_count": null,
   "metadata": {},
   "outputs": [],
   "source": [
    "# Searching general news about Entertainment\n",
    "url = \"https://newscatcher-v2.p.rapidapi.com/v1/search\"\n",
    "\n",
    "querystring = {\"q\": \"*\",\"sort_by\": \"date\",\"topic\":\"entertainment\",\"lang\":\"en\"}\n",
    "\n",
    "response = requests.request(\"GET\", url, headers=headers, params=querystring)\n",
    "\n",
    "jsonObj = json.loads(response.text)\n",
    "print(json.dumps(jsonObj, indent = 2))"
   ]
  },
  {
   "cell_type": "code",
   "execution_count": null,
   "metadata": {},
   "outputs": [],
   "source": [
    "url = \"https://newscatcher-v2.p.rapidapi.com/v1/search\"\n",
    "\n",
    "# Searching latest fashion news\n",
    "querystring = {\"q\":\"fashion\",\"lang\":\"en\",\"sort_by\":\"relevancy\",\"topic\":\"news\",\"page\":\"1\", 'from': today}\n",
    "\n",
    "\n",
    "response = requests.request(\"GET\", url, headers=headers, params=querystring)\n",
    "\n",
    "jsonObj = json.loads(response.text)\n",
    "print(json.dumps(jsonObj, indent = 2))"
   ]
  },
  {
   "cell_type": "code",
   "execution_count": null,
   "metadata": {},
   "outputs": [],
   "source": [
    "url = \"https://newscatcher-v2.p.rapidapi.com/v1/search\"\n",
    "\n",
    "# Searching latest automobile news from anywhere\n",
    "querystring = {\"q\":\"automobile\",\"lang\":\"en\",\"sort_by\":\"relevancy\",\"topic\":\"news\",\"page\":\"1\", 'from': today}\n",
    "\n",
    "\n",
    "response = requests.request(\"GET\", url, headers=headers, params=querystring)\n",
    "\n",
    "jsonObj = json.loads(response.text)\n",
    "print(json.dumps(jsonObj, indent = 2))"
   ]
  },
  {
   "cell_type": "code",
   "execution_count": null,
   "metadata": {},
   "outputs": [],
   "source": [
    "url = \"https://newscatcher-v2.p.rapidapi.com/v1/search\"\n",
    "\n",
    "# Latest news about Food in NZ\n",
    "querystring = {\"q\": \"*\",\"sort_by\": \"date\",\"topic\":\"food\",\"lang\":\"en\",\"country\":\"nz\"}\n",
    "\n",
    "\n",
    "response = requests.request(\"GET\", url, headers=headers, params=querystring)\n",
    "\n",
    "jsonObj = json.loads(response.text)\n",
    "print(json.dumps(jsonObj, indent = 2))"
   ]
  },
  {
   "cell_type": "code",
   "execution_count": null,
   "metadata": {},
   "outputs": [],
   "source": [
    "url = \"https://newscatcher-v2.p.rapidapi.com/v1/search\"\n",
    "\n",
    "# Searching about Lifestyle anywhere\n",
    "querystring = {\"q\":\"lifestyle\",\"lang\":\"en\",\"sort_by\":\"relevancy\",\"topic\":\"news\",\"page\":\"1\", 'from': today}\n",
    "\n",
    "\n",
    "response = requests.request(\"GET\", url, headers=headers, params=querystring)\n",
    "\n",
    "jsonObj = json.loads(response.text)\n",
    "print(json.dumps(jsonObj, indent = 2))"
   ]
  },
  {
   "cell_type": "code",
   "execution_count": null,
   "metadata": {},
   "outputs": [],
   "source": [
    "url = \"https://newscatcher-v2.p.rapidapi.com/v1/search\"\n",
    "\n",
    "# Searching about Education\n",
    "querystring = {\"q\":\"education\",\"lang\":\"en\",\"sort_by\":\"relevancy\",\"topic\":\"news\",\"page\":\"1\", 'from': today}\n",
    "\n",
    "\n",
    "response = requests.request(\"GET\", url, headers=headers, params=querystring)\n",
    "\n",
    "jsonObj = json.loads(response.text)\n",
    "print(json.dumps(jsonObj, indent = 2))"
   ]
  }
 ],
 "metadata": {
  "interpreter": {
   "hash": "dd51b2024122333d0c2f5d27a3ce90bdb1562b8eeccb7dc71baff200e418b629"
  },
  "kernelspec": {
   "display_name": "Python 3.7.9 64-bit ('env': venv)",
   "name": "python3"
  },
  "language_info": {
   "codemirror_mode": {
    "name": "ipython",
    "version": 3
   },
   "file_extension": ".py",
   "mimetype": "text/x-python",
   "name": "python",
   "nbconvert_exporter": "python",
   "pygments_lexer": "ipython3",
   "version": "3.7.9"
  },
  "orig_nbformat": 4
 },
 "nbformat": 4,
 "nbformat_minor": 2
}