{
 "metadata": {
  "language_info": {
   "codemirror_mode": {
    "name": "ipython",
    "version": 3
   },
   "file_extension": ".py",
   "mimetype": "text/x-python",
   "name": "python",
   "nbconvert_exporter": "python",
   "pygments_lexer": "ipython3",
   "version": "3.7.9"
  },
  "orig_nbformat": 4,
  "kernelspec": {
   "name": "python3",
   "display_name": "Python 3.7.9 64-bit ('env': venv)"
  },
  "interpreter": {
   "hash": "dd51b2024122333d0c2f5d27a3ce90bdb1562b8eeccb7dc71baff200e418b629"
  }
 },
 "nbformat": 4,
 "nbformat_minor": 2,
 "cells": [
  {
   "cell_type": "code",
   "execution_count": 17,
   "metadata": {},
   "outputs": [
    {
     "output_type": "stream",
     "name": "stdout",
     "text": [
      "Fetch news articles of: 2021-07-02\n"
     ]
    }
   ],
   "source": [
    "import requests\n",
    "import json\n",
    "\n",
    "from datetime import date\n",
    "\n",
    "headers = {\n",
    "    'x-rapidapi-key': '159028ec9cmshaf9d7b547405139p1bfce0jsn80b85d554231',\n",
    "    'x-rapidapi-host': 'newscatcher.p.rapidapi.com'\n",
    "}\n",
    "\n",
    "today = date.today()\n",
    "print(\"Fetch news articles of:\", today)\n"
   ]
  },
  {
   "cell_type": "code",
   "execution_count": 18,
   "metadata": {},
   "outputs": [
    {
     "output_type": "stream",
     "name": "stdout",
     "text": [
      "{\n  \"status\": \"ok\",\n  \"total_hits\": 1,\n  \"page\": 1,\n  \"total_pages\": 1,\n  \"page_size\": 1,\n  \"articles\": [\n    {\n      \"summary\": \"As Covid-19 spreads throughout Africa, a potentially deadly lack of oxygen is leaving patients gasping for breath. Many are having to go without this essential treatment. Some experts apportion considerable blame to the two multinational gas suppliers who dominate the market for oxygen cylinders in most African countries, saying their high prices make the treatment unaffordable. Ex-employees, industry insiders and hospital staff have told the Bureau of Investigative Journalism that in their opinion the Linde Group and Air Liquide have overcharged for medical oxygen and on occasion limited hospitals' supply.\",\n      \"country\": \"US\",\n      \"author\": \"Madlen Davies\",\n      \"link\": \"https://www.thebureauinvestigates.com/stories/2020-08-09/lack-of-oxygen-leaves-covid-19-patients-in-africa-gasping-for-air\",\n      \"language\": \"en\",\n      \"media\": \"https://d3cocnzdt9u6c9.cloudfront.net/eyJidWNrZXQiOiJhc3NldHMyLnRoZWJ1cmVhdWludmVzdGlnYXRlcy5jb20iLCJrZXkiOiJ1cGxvYWRzL2NoaWxkLXJlY2VpdmVzLW94eWdlbi1zYXZlLXRoZS1jaGlsZHJlbi5qcGciLCJlZGl0cyI6eyJqcGVnIjp7InF1YWxpdHkiOjEwMCwicHJvZ3Jlc3NpdmUiOmZhbHNlLCJ0cmVsbGlzUXVhbnRpc2F0aW9uIjp0cnVlLCJvdmVyc2hvb3REZXJpbmdpbmciOnRydWUsIm9wdGltaXplU2NhbnMiOnRydWV9LCJyZXNpemUiOnsid2lkdGgiOjEyMDAsImhlaWdodCI6NjMwLCJmaXQiOiJjb3ZlciJ9LCJzaGFycGVuIjp0cnVlfX0=\",\n      \"title\": \"Lack of oxygen leaves patients in Africa gasping for air\",\n      \"media_content\": null,\n      \"clean_url\": \"thebureauinvestigates.com\",\n      \"rights\": \"thebureauinvestigates.com\",\n      \"rank\": \"13780\",\n      \"topic\": \"news\",\n      \"published_date\": \"2021-07-29 07:00:00\",\n      \"_id\": \"114db13c797ff4b734a84b436b1aa47f\",\n      \"_score\": 2.6783845\n    }\n  ],\n  \"user_input\": {\n    \"q\": \"covid\",\n    \"search_in\": \"title_summary_en\",\n    \"lang\": \"en\",\n    \"country\": null,\n    \"from\": \"2021-07-02 00:00:00\",\n    \"to\": null,\n    \"ranked_only\": \"True\",\n    \"from_rank\": null,\n    \"to_rank\": null,\n    \"sort_by\": \"relevancy\",\n    \"page\": 1,\n    \"size\": 5,\n    \"sources\": null,\n    \"not_sources\": null,\n    \"topic\": \"news\",\n    \"media\": \"True\"\n  }\n}\n"
     ]
    }
   ],
   "source": [
    "\n",
    "# Searching Covid-19 news\n",
    "url = \"https://newscatcher.p.rapidapi.com/v1/search\"\n",
    "\n",
    "querystring = {\"q\":\"covid\",\"lang\":\"en\",\"sort_by\":\"relevancy\",\"topic\":\"news\",\"page\":\"1\",\"media\":\"True\", 'from': today}\n",
    "\n",
    "response = requests.request(\"GET\", url, headers=headers, params=querystring)\n",
    "\n",
    "jsonObj = json.loads(response.text)\n",
    "print(json.dumps(jsonObj, indent = 2))"
   ]
  },
  {
   "cell_type": "code",
   "execution_count": 19,
   "metadata": {},
   "outputs": [
    {
     "output_type": "stream",
     "name": "stdout",
     "text": [
      "{\n  \"status\": \"ok\",\n  \"articles\": [\n    {\n      \"summary\": \"Skateboarder Sky Brown will become Britain's youngest Summer Olympian in Tokyo and hopes to inspire other girls. Brown will be 13 years, 11 days old when the Olympics open on July 23, surpassing the British record of Margery Hinton, who was 31 days older when she swam in Amsterdam in 1928. 'Everyone around the world will be watching, and I feel like if I'm the little one in there going big, hopefully they (girls) will think, \\u2018Maybe I can do it,' and I can show the world how fun and creative skateboarding is,' she told the BBC.\",\n      \"country\": \"NZ\",\n      \"author\": \"Stuff\",\n      \"link\": \"https://www.stuff.co.nz/sport/olympics/300347638/skateboarder-sky-brown-to-be-britains-youngest-summer-olympian\",\n      \"language\": \"en\",\n      \"media\": \"https://resources.stuff.co.nz/content/dam/images/4/y/t/h/q/8/image.related.StuffLandscapeSixteenByNine.1420x800.4ythpy.png/1625164317639.jpg\",\n      \"title\": \"Skateboarder Sky Brown to be Britain's youngest Summer Olympian\",\n      \"media_content\": null,\n      \"clean_url\": \"stuff.co.nz\",\n      \"rights\": \"Stuff Limited.\",\n      \"rank\": \"1053\",\n      \"topic\": \"sport\",\n      \"published_date\": \"2021-07-01 18:31:57\",\n      \"_id\": \"6005802564562c45a3c7d12d0b628eb4\"\n    },\n    {\n      \"summary\": \"Tour de France organisers have withdrawn their lawsuit against a spectator who caused a massive crash on the first stage. Organisers made the decision in a bid to defuse the situation after the careless spectator was placed in custody, race spokesperson Fabrice Tiano said on Thursday (local time). Gendarmes (paramilitary police) in Brittany, France arrested her on Wednesday, four days after the accident brought down dozens of riders and forced German rider Jasha Sutterlin to abandon the race.A female fan clips German rider Tony Martin with her sign, causing a huge crash on the first stage of the Tour de France.\",\n      \"country\": \"NZ\",\n      \"author\": \"Stuff\",\n      \"link\": \"https://www.stuff.co.nz/sport/other-sports/300347625/tour-de-france-organisers-withdraw-lawsuit-against-fan-who-caused-crash\",\n      \"language\": \"en\",\n      \"media\": \"https://resources.stuff.co.nz/content/dam/images/4/y/t/e/i/x/image.related.StuffLandscapeSixteenByNine.1420x800.4ythpl.png/1625162813037.jpg\",\n      \"title\": \"Tour de France organisers withdraw lawsuit against fan who caused crash\",\n      \"media_content\": null,\n      \"clean_url\": \"stuff.co.nz\",\n      \"rights\": \"Stuff Limited.\",\n      \"rank\": \"1053\",\n      \"topic\": \"sport\",\n      \"published_date\": \"2021-07-01 18:06:52\",\n      \"_id\": \"78189f5300412cbe8be72255459588d6\"\n    },\n    {\n      \"summary\": \"The wrap\",\n      \"country\": \"NZ\",\n      \"author\": \"\",\n      \"link\": \"https://www.odt.co.nz/sport/rugby/club-rugby/gi-can-relax-others-still-have-work-do\",\n      \"language\": \"en\",\n      \"media\": null,\n      \"title\": \"GI can relax but others still have work to do\",\n      \"media_content\": null,\n      \"clean_url\": \"odt.co.nz\",\n      \"rights\": \"odt.co.nz\",\n      \"rank\": \"10332\",\n      \"topic\": \"sport\",\n      \"published_date\": \"2021-07-01 16:30:00\",\n      \"_id\": \"ea2b0a0619542d2eff7cc7ae2bb9f87e\"\n    },\n    {\n      \"summary\": \"Tim Guthrie Tim Guthrie was named referee of the week last month.\",\n      \"country\": \"NZ\",\n      \"author\": \"Adrian Seconi\",\n      \"link\": \"https://www.odt.co.nz/sport/rugby/giving-back-game\",\n      \"language\": \"en\",\n      \"media\": null,\n      \"title\": \"Giving back to the game\",\n      \"media_content\": null,\n      \"clean_url\": \"odt.co.nz\",\n      \"rights\": \"odt.co.nz\",\n      \"rank\": \"10332\",\n      \"topic\": \"sport\",\n      \"published_date\": \"2021-07-01 16:30:00\",\n      \"_id\": \"81cde7e617506169b095391de8d040ca\"\n    },\n    {\n      \"summary\": \"Green Island prop Shane Fikken lunges for the tryline during a premier match against Kaikorai at Miller Park last weekend. PHOTO: GERARD O'BRIEN Tight just does not do it justice.\",\n      \"country\": \"NZ\",\n      \"author\": \"Adrian Seconi\",\n      \"link\": \"https://www.odt.co.nz/sport/rugby/club-rugby/premier-playoff-spots-wide-open\",\n      \"language\": \"en\",\n      \"media\": null,\n      \"title\": \"Premier playoff spots wide open\",\n      \"media_content\": null,\n      \"clean_url\": \"odt.co.nz\",\n      \"rights\": \"odt.co.nz\",\n      \"rank\": \"10332\",\n      \"topic\": \"sport\",\n      \"published_date\": \"2021-07-01 16:30:00\",\n      \"_id\": \"27101667e6cb8339278ae5a252b4dea0\"\n    }\n  ],\n  \"user_input\": {\n    \"lang\": \"en\",\n    \"country\": \"nz\",\n    \"topic\": \"sport\",\n    \"media\": \"True\"\n  }\n}\n"
     ]
    }
   ],
   "source": [
    "# Searching Sports news in NZ\n",
    "url = \"https://newscatcher.p.rapidapi.com/v1/latest_headlines\"\n",
    "\n",
    "querystring = {\"topic\":\"sport\",\"lang\":\"en\",\"country\":\"nz\",\"media\":\"True\"}\n",
    "\n",
    "response = requests.request(\"GET\", url, headers=headers, params=querystring)\n",
    "\n",
    "jsonObj = json.loads(response.text)\n",
    "print(json.dumps(jsonObj, indent = 2))"
   ]
  },
  {
   "cell_type": "code",
   "execution_count": 20,
   "metadata": {},
   "outputs": [
    {
     "output_type": "stream",
     "name": "stdout",
     "text": [
      "{\n  \"status\": \"No matches for your search.\",\n  \"user_input\": {\n    \"q\": \"crime\",\n    \"search_in\": \"title_summary_en\",\n    \"lang\": \"en\",\n    \"country\": \"nz\",\n    \"from\": \"2021-07-02 00:00:00\",\n    \"to\": null,\n    \"ranked_only\": \"True\",\n    \"from_rank\": null,\n    \"to_rank\": null,\n    \"sort_by\": \"relevancy\",\n    \"page\": 1,\n    \"size\": 5,\n    \"sources\": null,\n    \"not_sources\": null,\n    \"topic\": \"news\",\n    \"media\": \"True\"\n  }\n}\n"
     ]
    }
   ],
   "source": [
    "url = \"https://newscatcher.p.rapidapi.com/v1/search\"\n",
    "\n",
    "# Searching crime news in NZ\n",
    "querystring = {\"q\":\"crime\",\"lang\":\"en\",\"sort_by\":\"relevancy\",\"country\":\"nz\",\"topic\":\"news\",\"page\":\"1\",\"media\":\"True\", 'from': today}\n",
    "\n",
    "response = requests.request(\"GET\", url, headers=headers, params=querystring)\n",
    "\n",
    "jsonObj = json.loads(response.text)\n",
    "print(json.dumps(jsonObj, indent = 2))"
   ]
  },
  {
   "cell_type": "code",
   "execution_count": 21,
   "metadata": {},
   "outputs": [
    {
     "output_type": "stream",
     "name": "stdout",
     "text": [
      "{\n  \"status\": \"ok\",\n  \"articles\": [\n    {\n      \"summary\": \"New Plymouth's mayor has called out 'Wellington bureaucrats' for leaving the region behind in the transition to a low-emission economy. In the May budget, the Government allocated $13.9 million for the Just Transition \\u2013 the term for the country's shift away from oil and gas \\u2013 but Neil Holdom said only $190,000 of that had been allocated to Venture Taranaki, the region's economic development agency. That money, from the Ministry of Business and Innovation (MBIE) is to go towards Covid-19 recovery, M\\u0101ori partnerships and regional strategy work.\",\n      \"country\": \"NZ\",\n      \"author\": \"CHRISTINA PERSICO\",\n      \"link\": \"https://www.stuff.co.nz/taranaki-daily-news/news/125604686/taranaki-let-down-with-funding-for-clean-energy-switch--mayor\",\n      \"language\": \"en\",\n      \"media\": \"https://resources.stuff.co.nz/content/dam/images/4/y/s/p/z/k/image.related.StuffLandscapeSixteenByNine.1420x800.22s572.png/1625126360792.jpg\",\n      \"title\": \"Taranaki let down with funding for clean energy switch\",\n      \"media_content\": null,\n      \"clean_url\": \"stuff.co.nz\",\n      \"rights\": \"Stuff Limited.\",\n      \"rank\": \"1053\",\n      \"topic\": \"news\",\n      \"published_date\": \"2021-07-01 18:00:00\",\n      \"_id\": \"4e7977bc9f65acd2823e727144fe6a6b\"\n    },\n    {\n      \"summary\": \"Winter is properly cold now, with Arctic blasts giving most of the country good reason to put on an extra layer and crank the heaters. It also means that something called \\u2018black ice' is much more common on the roads. In this case, \\u2018black ice' is neither AC/DC's 2008 album, nor is it a flavour of Smirnoff RTD. Here, it refers to what happens when water freezes over tarmac in such a state that it appears totally invisible. Normal ice freezes with a white tinge, which comes from air bubbles and minerals in the water.\",\n      \"country\": \"NZ\",\n      \"author\": \"NILE BIJOUX\",\n      \"link\": \"https://www.stuff.co.nz/motoring/125604335/dont-get-caught-out-by-black-ice-on-the-road-these-cold-mornings\",\n      \"language\": \"en\",\n      \"media\": \"https://resources.stuff.co.nz/content/dam/images/4/y/m/k/t/r/image.related.StuffLandscapeSixteenByNine.1420x800.22s4xb.png/1625161753358.jpg\",\n      \"title\": \"Don't get caught out by black ice on the road these cold mornings\",\n      \"media_content\": null,\n      \"clean_url\": \"stuff.co.nz\",\n      \"rights\": \"Stuff Limited.\",\n      \"rank\": \"1053\",\n      \"topic\": \"news\",\n      \"published_date\": \"2021-07-01 17:49:12\",\n      \"_id\": \"a0d8c3a0c0a2735cd72003c6094f9799\"\n    },\n    {\n      \"summary\": \"Nissan said it will create a new 1 billion pound (NZ$2 billion) hub for making electric vehicles in Britain, part of the carmaker's revamp of its U.K. electric-car strategy and a post-Brexit boost for Prime Minister Boris Johnson. Nissan will spend as much as 423 million pounds (NZ$835 million) to produce a new all-electric crossover vehicle at its Sunderland plant in the north of England and Envision AESC will invest 450 million pounds (NZ$890 million) to expand battery-cell making, the carmaker said Thursday in a statement.\",\n      \"country\": \"NZ\",\n      \"author\": \"SIDDHARTH PHILIP AND JOE MAYES\",\n      \"link\": \"https://www.stuff.co.nz/motoring/evs/300347622/nissan-envision-to-create-2-billion-uk-evmaking-hub\",\n      \"language\": \"en\",\n      \"media\": \"https://resources.stuff.co.nz/content/dam/images/4/y/t/h/p/h/image.related.StuffLandscapeSixteenByNine.1420x800.4ythpi.png/1625161520452.jpg\",\n      \"title\": \"Nissan, Envision to create $2 billion U.K. EV-making hub\",\n      \"media_content\": null,\n      \"clean_url\": \"stuff.co.nz\",\n      \"rights\": \"Stuff Limited.\",\n      \"rank\": \"1053\",\n      \"topic\": \"news\",\n      \"published_date\": \"2021-07-01 17:45:19\",\n      \"_id\": \"b5a8cba1bba171ad91c191c284fc05ae\"\n    },\n    {\n      \"summary\": \"A Taranaki thrill-seeker has become one of the few people who managed to raise $10,000 for charity in time to get on a reality television show. Rebecca Dearden will be on the next season of Adventure All Stars, which pushes contestants to have the ultimate adventure around the country. The show starts filming in later October, but before being allowed to compete, the contestants had to raise $10,000 for their chosen charity by midnight on June 30. 'It's pretty real now I've raised $10,000,' Dearden said.\",\n      \"country\": \"NZ\",\n      \"author\": \"BRIANNA MCILRAITH\",\n      \"link\": \"https://www.stuff.co.nz/taranaki-daily-news/news/125619474/taranaki-woman-raises-10000-to-compete-in-thrillseeking-adventure-reality-show\",\n      \"language\": \"en\",\n      \"media\": \"https://resources.stuff.co.nz/content/dam/images/4/y/t/h/d/9/image.related.StuffLandscapeSixteenByNine.1420x800.22sglu.png/1625147952658.jpg\",\n      \"title\": \"Taranaki woman raises $10,000 to compete in thrill-seeking adventure reality show\",\n      \"media_content\": null,\n      \"clean_url\": \"stuff.co.nz\",\n      \"rights\": \"Stuff Limited.\",\n      \"rank\": \"1053\",\n      \"topic\": \"news\",\n      \"published_date\": \"2021-07-01 17:45:00\",\n      \"_id\": \"1268f83f914205430edffef9bb1e55db\"\n    },\n    {\n      \"summary\": \"A slight drop in property values in New Plymouth could be the first sign that months of accelerating prices may be starting to ease, Taranaki realtors say. Nationwide house prices increased by 1.8 per cent in June, a drop on the 2.2 per cent growth rate of the previous month, figures released by CoreLogic House Price Index on Thursday show. Nick Goodall, CoreLogic's head of research, said the rate of growth in June slowed in 12 of New Zealand's 18 largest markets, with a further three \\u2013 New Plymouth (-0.\",\n      \"country\": \"NZ\",\n      \"author\": \"CATHERINE GROENESTEIN\",\n      \"link\": \"https://www.stuff.co.nz/taranaki-daily-news/news/300346342/drop-in-values-could-signal-deceleration-in-house-prices\",\n      \"language\": \"en\",\n      \"media\": \"https://resources.stuff.co.nz/content/dam/images/4/y/t/h/h/8/image.related.StuffLandscapeSixteenByNine.1420x800.4ytgpy.png/1625127824395.jpg\",\n      \"title\": \"Drop in values could signal deceleration in house prices\",\n      \"media_content\": null,\n      \"clean_url\": \"stuff.co.nz\",\n      \"rights\": \"Stuff Limited.\",\n      \"rank\": \"1053\",\n      \"topic\": \"news\",\n      \"published_date\": \"2021-07-01 17:30:00\",\n      \"_id\": \"db07f6acc509d2d46265088b60a0d4ca\"\n    }\n  ],\n  \"user_input\": {\n    \"lang\": \"en\",\n    \"country\": \"nz\",\n    \"topic\": \"news\",\n    \"media\": \"True\"\n  }\n}\n"
     ]
    }
   ],
   "source": [
    "\n",
    "# Searching general news in New Zealand\n",
    "url = \"https://newscatcher.p.rapidapi.com/v1/latest_headlines\"\n",
    "\n",
    "querystring = {\"topic\":\"news\",\"lang\":\"en\",\"country\":\"nz\",\"media\":\"True\"}\n",
    "\n",
    "response = requests.request(\"GET\", url, headers=headers, params=querystring)\n",
    "\n",
    "jsonObj = json.loads(response.text)\n",
    "print(json.dumps(jsonObj, indent = 2))"
   ]
  },
  {
   "cell_type": "code",
   "execution_count": 22,
   "metadata": {},
   "outputs": [
    {
     "output_type": "stream",
     "name": "stdout",
     "text": [
      "{\n  \"status\": \"ok\",\n  \"articles\": [\n    {\n      \"summary\": \"The Lava Fire in Siskiyou County, California, burned 19,680 acres (about 31 square miles) and was 25 percent contained as of Thursday, July 1, fire officials said. All evacuation orders remained in effect as a second blaze, dubbed the Tennant Fire, continued to burn 25 miles away from the Lava Fire. This footage filmed by public information officer Daniel Ramey, who said it was taken in the city of Weed, shows wind picking up smoke from the fire. Credit: Daniel Ramey via Storyful\",\n      \"country\": \"AU\",\n      \"author\": \"18 minutes agoStoryful\",\n      \"link\": \"https://www.couriermail.com.au/news/national/evacuation-orders-remain-as-crews-battle-lava-fire-in-northern-california/video/dccc52c787234f160b75842d43682459\",\n      \"language\": \"en\",\n      \"media\": \"https://content.api.news/v3/images/bin/30ecea804bd135b094f872bcd8f6cfe3\",\n      \"title\": \"Evacuation Orders Remain as Crews Battle Lava Fire in Northern California\",\n      \"media_content\": null,\n      \"clean_url\": \"couriermail.com.au\",\n      \"rights\": \"couriermail.com.au\",\n      \"rank\": \"4826\",\n      \"topic\": \"news\",\n      \"published_date\": \"2021-07-01 18:05:06\",\n      \"_id\": \"beb3f068a125563c1d6042120d92383f\"\n    },\n    {\n      \"summary\": \"The Lava Fire in Siskiyou County, California, burned 19,680 acres (about 31 square miles) and was 25 percent contained as of Thursday, July 1, fire officials said. All evacuation orders remained in effect as a second blaze, dubbed the Tennant Fire, continued to burn 25 miles away from the Lava Fire. This footage filmed by public information officer Daniel Ramey, who said it was taken in the city of Weed, shows wind picking up smoke from the fire. Credit: Daniel Ramey via Storyful The Australian doesn't play nicely with your current browser.\",\n      \"country\": \"AU\",\n      \"author\": \"\",\n      \"link\": \"https://www.theaustralian.com.au/news/evacuation-orders-remain-as-crews-battle-lava-fire-in-northern-california/video/dccc52c787234f160b75842d43682459\",\n      \"language\": \"en\",\n      \"media\": \"https://www.theaustralian.com.au/news/evacuation-orders-remain-as-crews-battle-lava-fire-in-northern-california/video/dccc52c787234f160b75842d43682459\",\n      \"title\": \"Evacuation Orders Remain as Crews Battle Lava Fire in Northern California\",\n      \"media_content\": null,\n      \"clean_url\": \"theaustralian.com.au\",\n      \"rights\": \"theaustralian.com.au\",\n      \"rank\": \"1513\",\n      \"topic\": \"news\",\n      \"published_date\": \"2021-07-01 18:05:06\",\n      \"_id\": \"d3ffda93d9f782ebe067d35183b5ca49\"\n    },\n    {\n      \"summary\": \"Do you have a question you've been too afraid to ask about your relationship?From whether to worry about your other half's alone time, what to do if your partner wants a threesome to how to deal with unsolicited dick picks \\u2013 sex therapist Hanieh Tolouei will give you the frank and thorough answers to help you sleep at night. HEY BESTIE: I think my wife is cheating on me, what should I do? She's been getting home late from work, there's unexplained money disappearing from accounts and spending a lot of time on her phone but when I ask her who she's talking to she clams up.\",\n      \"country\": \"AU\",\n      \"author\": \"Hanieh Tolouei\",\n      \"link\": \"https://www.perthnow.com.au/lifestyle/relationships/hey-bestie-what-do-i-do-when-i-think-my-wife-is-cheating-ng-b881914220z\",\n      \"language\": \"en\",\n      \"media\": \"https://images.perthnow.com.au/publication/B881914220Z/1625115701921_GH63BD85L.2-2.jpg?imwidth=1200\",\n      \"title\": \"Hey Bestie: What do I do when I think my wife is cheating?\",\n      \"media_content\": \"https://images.perthnow.com.au/publication/B881914220Z/1625115701921_GH63BD85L.2-2.jpg\",\n      \"clean_url\": \"perthnow.com.au\",\n      \"rights\": \"Copyright 2021 West Australian Newspapers Limited 2020\",\n      \"rank\": \"8414\",\n      \"topic\": \"news\",\n      \"published_date\": \"2021-07-01 18:00:00\",\n      \"_id\": \"b9200e9c8119ef821b7f920dbe35de41\"\n    },\n    {\n      \"summary\": \"\",\n      \"country\": \"AU\",\n      \"author\": \"\",\n      \"link\": \"https://www.couriermail.com.au/subscribe/news/1/\",\n      \"language\": \"en\",\n      \"media\": null,\n      \"title\": \"Blind drunk man lucky to be alive after car hits tree\",\n      \"media_content\": null,\n      \"clean_url\": \"couriermail.com.au\",\n      \"rights\": \"couriermail.com.au\",\n      \"rank\": \"4826\",\n      \"topic\": \"news\",\n      \"published_date\": \"2021-07-01 18:00:00\",\n      \"_id\": \"81dfd8da18052b186a942462cd4d0d71\"\n    },\n    {\n      \"summary\": \"The Dunalley fire destroyed 93 homes and 186 other properties including the town's school. Credit: AAPA judgment is expected to be delivered in civil court action taken by hundreds of Tasmanians impacted by a devastating bushfire eight years ago.The fortnight-long wildfire at Dunalley in the state's southeast destroyed 93 homes and 186 other properties including the town's school and police station in January 2013.Some 400 people took legal action against Melissa Jayne Barrett, who they allege negligently caused the blaze by failing to extinguish a campfire on her Forcett property.\",\n      \"country\": \"AU\",\n      \"author\": \"AAP\",\n      \"link\": \"https://www.perthnow.com.au/news/crime/judgment-in-tasmania-bushfire-legal-action-c-3283976\",\n      \"language\": \"en\",\n      \"media\": \"https://images.perthnow.com.au/publication/C-3283976/d60f346ae23e302cafb115323fbeaaf19d88fa27-16x9-x0y75w800h450.jpg?imwidth=1200\",\n      \"title\": \"Judgment in Tasmania bushfire legal action\",\n      \"media_content\": \"https://images.perthnow.com.au/publication/C-3283976/d60f346ae23e302cafb115323fbeaaf19d88fa27-16x9-x0y75w800h450.jpg\",\n      \"clean_url\": \"perthnow.com.au\",\n      \"rights\": \"Copyright 2021 West Australian Newspapers Limited 2020\",\n      \"rank\": \"8414\",\n      \"topic\": \"news\",\n      \"published_date\": \"2021-07-01 17:33:47\",\n      \"_id\": \"22bbb82afe07fd8a3fdd5758f1f1cfd5\"\n    }\n  ],\n  \"user_input\": {\n    \"lang\": \"en\",\n    \"country\": \"au\",\n    \"topic\": \"news\",\n    \"media\": \"True\"\n  }\n}\n"
     ]
    }
   ],
   "source": [
    "\n",
    "# Searching general news in Australia\n",
    "url = \"https://newscatcher.p.rapidapi.com/v1/latest_headlines\"\n",
    "\n",
    "querystring = {\"topic\":\"news\",\"lang\":\"en\",\"country\":\"au\",\"media\":\"True\"}\n",
    "\n",
    "response = requests.request(\"GET\", url, headers=headers, params=querystring)\n",
    "\n",
    "jsonObj = json.loads(response.text)\n",
    "print(json.dumps(jsonObj, indent = 2))"
   ]
  },
  {
   "cell_type": "code",
   "execution_count": 23,
   "metadata": {},
   "outputs": [
    {
     "output_type": "stream",
     "name": "stdout",
     "text": [
      "{\n  \"status\": \"ok\",\n  \"articles\": [\n    {\n      \"summary\": \"This fine and lucid scholarship has the additional benefit of the eye of an experienced practitioner as Zelikow addresses the question of whether U.S. President Woodrow Wilson could have mediated a peace deal in 1916 or 1917 to end World War I before the United States joined the fray. The reader is aware\\u2014although the policymakers of the time could not have been\\u2014of the difference that an early deal might have made, perhaps sparing the world the later traumas associated with the rise of Bolshevism in Russia and Nazism in Germany.\",\n      \"country\": \"US\",\n      \"author\": \"Lawrence D. Freedman\",\n      \"link\": \"https://www.foreignaffairs.com/reviews/capsule-review/2021-12-01/road-less-traveled-secret-battle-end-great-war-1916-1917\",\n      \"language\": \"en\",\n      \"media\": \"https://cdn-live.foreignaffairs.com/sites/default/files/styles/issue_medium_2x/public/images/2021/04/14/51seJ%2Biz5EL._SX321_BO1%2C204%2C203%2C200_.jpg?itok=nzJ0RRv3\",\n      \"title\": \"The Road Less Traveled: The Secret Battle to End the Great War, 1916\\u20131917\",\n      \"media_content\": null,\n      \"clean_url\": \"foreignaffairs.com\",\n      \"rights\": \"foreignaffairs.com\",\n      \"rank\": \"2603\",\n      \"topic\": \"news\",\n      \"published_date\": \"2021-12-01 03:00:00\",\n      \"_id\": \"d5be322562fca99114aa13fe92255a7f\"\n    },\n    {\n      \"summary\": \"This fine and lucid scholarship has the additional benefit of the eye of an experienced practitioner as Zelikow addresses the question of whether U.S. President Woodrow Wilson could have mediated a peace deal in 1916 or 1917 to end World War I before the United States joined the fray. The reader is aware\\u2014although the policymakers of the time could not have been\\u2014of the difference that an early deal might have made, perhaps sparing the world the later traumas associated with the rise of Bolshevism in Russia and Nazism in Germany.\",\n      \"country\": \"US\",\n      \"author\": \"Lawrence D. Freedman\",\n      \"link\": \"https://www.foreignaffairs.com/reviews/capsule-review/2021-12-01/road-less-traveled-secret-battle-end-great-war-1916-1917\",\n      \"language\": \"en\",\n      \"media\": \"https://cdn-live.foreignaffairs.com/sites/default/files/styles/issue_medium_2x/public/images/2021/04/14/51seJ%2Biz5EL._SX321_BO1%2C204%2C203%2C200_.jpg?itok=nzJ0RRv3\",\n      \"title\": \"The Road Less Traveled: The Secret Battle to End the Great War, 1916-1917\",\n      \"media_content\": null,\n      \"clean_url\": \"foreignaffairs.com\",\n      \"rights\": \"foreignaffairs.com\",\n      \"rank\": \"2603\",\n      \"topic\": \"news\",\n      \"published_date\": \"2021-12-01 01:00:00\",\n      \"_id\": \"6de60d9007378a54acf82f221da89724\"\n    },\n    {\n      \"summary\": \"Approaching warp speed: HFT pushes computers to their limit. (Photo: Shutterstock) Huge quantities of cash and genius go into accelerating trading to its utmost limit in high frequency trading (HFT), the controversial trading practice that has grown into a significant force in markets in the US and Europe. This is a world somewhere between finance and quantum physics, where a few thousandths of a second can mean the difference between profit and loss. It's a fiendishly complex field: get your head around the basics with this infographic.\",\n      \"country\": \"US\",\n      \"author\": \"Sarah Leo\",\n      \"link\": \"https://www.thebureauinvestigates.com/stories/2012-09-16/infographic-trading-at-the-speed-of-light\",\n      \"language\": \"en\",\n      \"media\": \"https://d3cocnzdt9u6c9.cloudfront.net/eyJidWNrZXQiOiJhc3NldHMyLnRoZWJ1cmVhdWludmVzdGlnYXRlcy5jb20iLCJrZXkiOiJ1cGxvYWRzL3NodXR0ZXJzdG9ja18xMDcxOTg2NjMuanBnIiwiZWRpdHMiOnsianBlZyI6eyJxdWFsaXR5IjoxMDAsInByb2dyZXNzaXZlIjpmYWxzZSwidHJlbGxpc1F1YW50aXNhdGlvbiI6dHJ1ZSwib3ZlcnNob290RGVyaW5naW5nIjp0cnVlLCJvcHRpbWl6ZVNjYW5zIjp0cnVlfSwicmVzaXplIjp7IndpZHRoIjoxMjAwLCJoZWlnaHQiOjYzMCwiZml0IjoiY292ZXIifSwic2hhcnBlbiI6dHJ1ZX19\",\n      \"title\": \"Infographic: Trading at the speed of light\",\n      \"media_content\": null,\n      \"clean_url\": \"thebureauinvestigates.com\",\n      \"rights\": \"thebureauinvestigates.com\",\n      \"rank\": \"13780\",\n      \"topic\": \"news\",\n      \"published_date\": \"2021-07-29 10:00:00\",\n      \"_id\": \"bd08d083f98d30e1ef0e9bddd6ee717f\"\n    },\n    {\n      \"summary\": \"A British fraudster who stole millions of euros of taxpayers' money had links to a network based in north west England suspected of large scale criminal activity for more than two decades. Leaked documents reveal Imran Yakub Ahmed, 45, from Preston, who now lives a life of luxury in Dubai, was under investigation by the UK authorities as early as 1998 over concerns about his links with members of the suspected network. A decade later he would go on to be involved in what has been described as 'the fraud of the century'.\",\n      \"country\": \"US\",\n      \"author\": \"Madlen Davies\",\n      \"link\": \"https://www.thebureauinvestigates.com/stories/2019-06-09/from-preston-to-dubai-the-vat-fraud-trail\",\n      \"language\": \"en\",\n      \"media\": \"https://d3cocnzdt9u6c9.cloudfront.net/eyJidWNrZXQiOiJhc3NldHMyLnRoZWJ1cmVhdWludmVzdGlnYXRlcy5jb20iLCJrZXkiOiJ1cGxvYWRzL0Y1OFc2MS5qcGciLCJlZGl0cyI6eyJqcGVnIjp7InF1YWxpdHkiOjEwMCwicHJvZ3Jlc3NpdmUiOmZhbHNlLCJ0cmVsbGlzUXVhbnRpc2F0aW9uIjp0cnVlLCJvdmVyc2hvb3REZXJpbmdpbmciOnRydWUsIm9wdGltaXplU2NhbnMiOnRydWV9LCJyZXNpemUiOnsid2lkdGgiOjEyMDAsImhlaWdodCI6NjMwLCJmaXQiOiJjb3ZlciJ9fX0=\",\n      \"title\": \"From the UK to Dubai: On the trail of the \\\"fraud of the century\\\"\",\n      \"media_content\": null,\n      \"clean_url\": \"thebureauinvestigates.com\",\n      \"rights\": \"thebureauinvestigates.com\",\n      \"rank\": \"13780\",\n      \"topic\": \"news\",\n      \"published_date\": \"2021-07-29 07:00:00\",\n      \"_id\": \"a1c885b588f35c2b11471ceb1b1663a9\"\n    },\n    {\n      \"summary\": \"As Covid-19 spreads throughout Africa, a potentially deadly lack of oxygen is leaving patients gasping for breath. Many are having to go without this essential treatment. Some experts apportion considerable blame to the two multinational gas suppliers who dominate the market for oxygen cylinders in most African countries, saying their high prices make the treatment unaffordable. Ex-employees, industry insiders and hospital staff have told the Bureau of Investigative Journalism that in their opinion the Linde Group and Air Liquide have overcharged for medical oxygen and on occasion limited hospitals' supply.\",\n      \"country\": \"US\",\n      \"author\": \"Madlen Davies\",\n      \"link\": \"https://www.thebureauinvestigates.com/stories/2020-08-09/lack-of-oxygen-leaves-covid-19-patients-in-africa-gasping-for-air\",\n      \"language\": \"en\",\n      \"media\": \"https://d3cocnzdt9u6c9.cloudfront.net/eyJidWNrZXQiOiJhc3NldHMyLnRoZWJ1cmVhdWludmVzdGlnYXRlcy5jb20iLCJrZXkiOiJ1cGxvYWRzL2NoaWxkLXJlY2VpdmVzLW94eWdlbi1zYXZlLXRoZS1jaGlsZHJlbi5qcGciLCJlZGl0cyI6eyJqcGVnIjp7InF1YWxpdHkiOjEwMCwicHJvZ3Jlc3NpdmUiOmZhbHNlLCJ0cmVsbGlzUXVhbnRpc2F0aW9uIjp0cnVlLCJvdmVyc2hvb3REZXJpbmdpbmciOnRydWUsIm9wdGltaXplU2NhbnMiOnRydWV9LCJyZXNpemUiOnsid2lkdGgiOjEyMDAsImhlaWdodCI6NjMwLCJmaXQiOiJjb3ZlciJ9LCJzaGFycGVuIjp0cnVlfX0=\",\n      \"title\": \"Lack of oxygen leaves patients in Africa gasping for air\",\n      \"media_content\": null,\n      \"clean_url\": \"thebureauinvestigates.com\",\n      \"rights\": \"thebureauinvestigates.com\",\n      \"rank\": \"13780\",\n      \"topic\": \"news\",\n      \"published_date\": \"2021-07-29 07:00:00\",\n      \"_id\": \"114db13c797ff4b734a84b436b1aa47f\"\n    }\n  ],\n  \"user_input\": {\n    \"lang\": \"en\",\n    \"country\": null,\n    \"topic\": \"news\",\n    \"media\": \"True\"\n  }\n}\n"
     ]
    }
   ],
   "source": [
    "# Searching general news about World\n",
    "url = \"https://newscatcher.p.rapidapi.com/v1/latest_headlines\"\n",
    "\n",
    "querystring = {\"topic\":\"news\",\"lang\":\"en\",\"media\":\"True\"}\n",
    "\n",
    "response = requests.request(\"GET\", url, headers=headers, params=querystring)\n",
    "\n",
    "jsonObj = json.loads(response.text)\n",
    "print(json.dumps(jsonObj, indent = 2))"
   ]
  },
  {
   "cell_type": "code",
   "execution_count": 24,
   "metadata": {},
   "outputs": [
    {
     "output_type": "stream",
     "name": "stdout",
     "text": [
      "{\n  \"status\": \"ok\",\n  \"articles\": [\n    {\n      \"summary\": \"no comments yetBe the first to share what you think!View Entire Discussion (0 Comments)\",\n      \"country\": \"US\",\n      \"author\": \"/u/whackri\",\n      \"link\": \"https://www.reddit.com/r/programming/comments/obsau0/flight_rules_for_git_a_guide_for_programmers/\",\n      \"language\": \"en\",\n      \"media\": \"https://external-preview.redd.it/FAqDJNn1QxDPuJ3tmYEvALjtwRztF6R_VVHKV-wCwU4.jpg?auto=webp&s=6a4c67ece515f836ad6ec4b026051f5af902fce3\",\n      \"title\": \"Flight rules for Git: a guide for programmers using Git about what to do when things go wrong\",\n      \"media_content\": null,\n      \"clean_url\": \"reddit.com\",\n      \"rights\": \"reddit.com\",\n      \"rank\": \"39\",\n      \"topic\": \"tech\",\n      \"published_date\": \"2021-07-01 18:43:59\",\n      \"_id\": \"48b4cb4f0693e1cd8f1908fe4a2996cd\"\n    },\n    {\n      \"summary\": \"Does it allow your non-technical boss and/or coworker to write a bug free program with their existing skillset?It definitely does not concern me in the slightest.\",\n      \"country\": \"US\",\n      \"author\": \"/u/LazyBird55_X\",\n      \"link\": \"https://www.reddit.com/r/programming/comments/obsafq/as_a_programmer_how_nervous_are_you_about_github/\",\n      \"language\": \"en\",\n      \"media\": null,\n      \"title\": \"As a programmer, how nervous are you about GitHub Copilot? Do you think it'll reduce your salary, cost you your job?\",\n      \"media_content\": null,\n      \"clean_url\": \"reddit.com\",\n      \"rights\": \"reddit.com\",\n      \"rank\": \"39\",\n      \"topic\": \"tech\",\n      \"published_date\": \"2021-07-01 18:43:26\",\n      \"_id\": \"01a2f49b412b1be26a7762f3913dc9fa\"\n    },\n    {\n      \"summary\": \"Digital Trends may earn a commission when you buy through links on our site. If you're shopping for a new tablet, the best way to save is to look for cheap refurbished tablets. If you don't find or don't want to pay the price for even the best cheap tablet deals, a refurb is a great alternative. Different manufacturers or retailers may call them by different names, such as remanufactured or refreshed, but refurbished tablet sales are a good way to upgrade your equipment other than buying new devices.\",\n      \"country\": \"US\",\n      \"author\": \"Bruce Brown\",\n      \"link\": \"https://www.digitaltrends.com/mobile/best-refurbished-tablet-sales-deals/\",\n      \"language\": \"en\",\n      \"media\": \"https://icdn.digitaltrends.com/image/digitaltrends/laptop-xps-13-2n1-7390-pdp-consumer-blackwhite-mod1.jpg\",\n      \"title\": \"Best cheap refurbished tablet sales and deals for July 2021\",\n      \"media_content\": null,\n      \"clean_url\": \"digitaltrends.com\",\n      \"rights\": \"digitaltrends.com\",\n      \"rank\": \"630\",\n      \"topic\": \"tech\",\n      \"published_date\": \"2021-07-01 18:35:36\",\n      \"_id\": \"cdf4de38c3a09fdaf1fa0877b2dc53de\"\n    },\n    {\n      \"summary\": \"Amanda Silberling / TechCrunch: Karat Financial, which offers banking solutions to creators, gig workers, and other self-employed workers, raises $26M Series A led by Union Square Ventures \\u2014 The creator economy is changing the way that people earn a living, whether you're an Instagram influencer or a freelance graphic designer.\",\n      \"country\": \"CA\",\n      \"author\": null,\n      \"link\": \"http://www.techmeme.com/210701/p38#a210701p38\",\n      \"language\": \"en\",\n      \"media\": null,\n      \"title\": \"Karat Financial, which offers banking solutions to creators, gig workers, and other self-employed workers, raises $26M Series A led by Union Square Ventures (Amanda Silberling/TechCrunch)\",\n      \"media_content\": null,\n      \"clean_url\": \"techmeme.com\",\n      \"rights\": \"techmeme.com\",\n      \"rank\": \"17353\",\n      \"topic\": \"tech\",\n      \"published_date\": \"2021-07-01 18:30:01\",\n      \"_id\": \"a49c0e3836420e2b10ab50068c3912a9\"\n    },\n    {\n      \"summary\": \"no comments yetBe the first to share what you think!View Entire Discussion (0 Comments)\",\n      \"country\": \"US\",\n      \"author\": \"/u/ealoft\",\n      \"link\": \"https://www.reddit.com/r/technology/comments/obrvr5/the_secret_cost_of_googles_data_centers_billions/\",\n      \"language\": \"en\",\n      \"media\": \"https://external-preview.redd.it/DhZcDp_5zWPb2k_SioXurSxWC0BpZP7kUTnVliFaTMw.jpg?auto=webp&s=d5815eac4218b333ea3afdd5533f43e3491098c9\",\n      \"title\": \"The Secret Cost of Google's Data Centers: Billions of Gallons of Water\",\n      \"media_content\": null,\n      \"clean_url\": \"reddit.com\",\n      \"rights\": \"reddit.com\",\n      \"rank\": \"39\",\n      \"topic\": \"tech\",\n      \"published_date\": \"2021-07-01 18:24:02\",\n      \"_id\": \"08983a379b16d923747bc2a3bd9be8c0\"\n    }\n  ],\n  \"user_input\": {\n    \"lang\": \"en\",\n    \"country\": null,\n    \"topic\": \"tech\",\n    \"media\": \"True\"\n  }\n}\n"
     ]
    }
   ],
   "source": [
    "# Searching general news about Technology\n",
    "url = \"https://newscatcher.p.rapidapi.com/v1/latest_headlines\"\n",
    "\n",
    "querystring = {\"topic\":\"tech\",\"lang\":\"en\",\"media\":\"True\"}\n",
    "\n",
    "response = requests.request(\"GET\", url, headers=headers, params=querystring)\n",
    "\n",
    "jsonObj = json.loads(response.text)\n",
    "print(json.dumps(jsonObj, indent = 2))"
   ]
  },
  {
   "cell_type": "code",
   "execution_count": 25,
   "metadata": {},
   "outputs": [
    {
     "output_type": "stream",
     "name": "stdout",
     "text": [
      "{\n  \"message\": \"You have exceeded the rate limit per hour for your plan, BASIC, by the API provider\"\n}\n"
     ]
    }
   ],
   "source": [
    "# Searching general news about Business\n",
    "url = \"https://newscatcher.p.rapidapi.com/v1/latest_headlines\"\n",
    "\n",
    "querystring = {\"topic\":\"business\",\"lang\":\"en\",\"media\":\"True\"}\n",
    "\n",
    "response = requests.request(\"GET\", url, headers=headers, params=querystring)\n",
    "\n",
    "jsonObj = json.loads(response.text)\n",
    "print(json.dumps(jsonObj, indent = 2))"
   ]
  },
  {
   "cell_type": "code",
   "execution_count": 26,
   "metadata": {},
   "outputs": [
    {
     "output_type": "stream",
     "name": "stdout",
     "text": [
      "{\n  \"message\": \"You have exceeded the rate limit per hour for your plan, BASIC, by the API provider\"\n}\n"
     ]
    }
   ],
   "source": [
    "# Searching general news about Finance/Stock Market\n",
    "url = \"https://newscatcher.p.rapidapi.com/v1/latest_headlines\"\n",
    "\n",
    "querystring = {\"topic\":\"finance\",\"lang\":\"en\",\"media\":\"True\"}\n",
    "\n",
    "response = requests.request(\"GET\", url, headers=headers, params=querystring)\n",
    "\n",
    "jsonObj = json.loads(response.text)\n",
    "print(json.dumps(jsonObj, indent = 2))"
   ]
  },
  {
   "cell_type": "code",
   "execution_count": 27,
   "metadata": {},
   "outputs": [
    {
     "output_type": "stream",
     "name": "stdout",
     "text": [
      "{\n  \"message\": \"You have exceeded the rate limit per hour for your plan, BASIC, by the API provider\"\n}\n"
     ]
    }
   ],
   "source": [
    "# Searching general news about Travel\n",
    "url = \"https://newscatcher.p.rapidapi.com/v1/latest_headlines\"\n",
    "\n",
    "querystring = {\"topic\":\"travel\",\"lang\":\"en\",\"media\":\"True\"}\n",
    "\n",
    "response = requests.request(\"GET\", url, headers=headers, params=querystring)\n",
    "\n",
    "jsonObj = json.loads(response.text)\n",
    "print(json.dumps(jsonObj, indent = 2))"
   ]
  },
  {
   "cell_type": "code",
   "execution_count": 28,
   "metadata": {},
   "outputs": [
    {
     "output_type": "stream",
     "name": "stdout",
     "text": [
      "{\n  \"message\": \"You have exceeded the rate limit per hour for your plan, BASIC, by the API provider\"\n}\n"
     ]
    }
   ],
   "source": [
    "# Searching general news about Entertainment\n",
    "url = \"https://newscatcher.p.rapidapi.com/v1/latest_headlines\"\n",
    "\n",
    "querystring = {\"topic\":\"entertainment\",\"lang\":\"en\",\"media\":\"True\"}\n",
    "\n",
    "response = requests.request(\"GET\", url, headers=headers, params=querystring)\n",
    "\n",
    "jsonObj = json.loads(response.text)\n",
    "print(json.dumps(jsonObj, indent = 2))"
   ]
  },
  {
   "cell_type": "code",
   "execution_count": 29,
   "metadata": {},
   "outputs": [
    {
     "output_type": "stream",
     "name": "stdout",
     "text": [
      "{\n  \"message\": \"You have exceeded the rate limit per hour for your plan, BASIC, by the API provider\"\n}\n"
     ]
    }
   ],
   "source": [
    "url = \"https://newscatcher.p.rapidapi.com/v1/search\"\n",
    "\n",
    "# Searching latest fashion news\n",
    "querystring = {\"q\":\"fashion\",\"lang\":\"en\",\"sort_by\":\"relevancy\",\"topic\":\"news\",\"page\":\"1\",\"media\":\"True\", 'from': today}\n",
    "\n",
    "\n",
    "response = requests.request(\"GET\", url, headers=headers, params=querystring)\n",
    "\n",
    "jsonObj = json.loads(response.text)\n",
    "print(json.dumps(jsonObj, indent = 2))"
   ]
  },
  {
   "cell_type": "code",
   "execution_count": 30,
   "metadata": {},
   "outputs": [
    {
     "output_type": "stream",
     "name": "stdout",
     "text": [
      "{\n  \"message\": \"You have exceeded the rate limit per hour for your plan, BASIC, by the API provider\"\n}\n"
     ]
    }
   ],
   "source": [
    "url = \"https://newscatcher.p.rapidapi.com/v1/search\"\n",
    "\n",
    "# Searching latest automobile news from anywhere\n",
    "querystring = {\"q\":\"automobile\",\"lang\":\"en\",\"sort_by\":\"relevancy\",\"topic\":\"news\",\"page\":\"1\",\"media\":\"True\", 'from': today}\n",
    "\n",
    "\n",
    "response = requests.request(\"GET\", url, headers=headers, params=querystring)\n",
    "\n",
    "jsonObj = json.loads(response.text)\n",
    "print(json.dumps(jsonObj, indent = 2))"
   ]
  },
  {
   "cell_type": "code",
   "execution_count": 31,
   "metadata": {},
   "outputs": [
    {
     "output_type": "stream",
     "name": "stdout",
     "text": [
      "{\n  \"message\": \"You have exceeded the rate limit per hour for your plan, BASIC, by the API provider\"\n}\n"
     ]
    }
   ],
   "source": [
    "url = \"https://newscatcher.p.rapidapi.com/v1/latest_headlines\"\n",
    "\n",
    "# Latest news about Food in NZ\n",
    "querystring = {\"topic\":\"food\",\"lang\":\"en\",\"country\":\"nz\",\"media\":\"True\"}\n",
    "\n",
    "\n",
    "response = requests.request(\"GET\", url, headers=headers, params=querystring)\n",
    "\n",
    "jsonObj = json.loads(response.text)\n",
    "print(json.dumps(jsonObj, indent = 2))"
   ]
  },
  {
   "cell_type": "code",
   "execution_count": 32,
   "metadata": {},
   "outputs": [
    {
     "output_type": "stream",
     "name": "stdout",
     "text": [
      "{\n  \"message\": \"You have exceeded the rate limit per hour for your plan, BASIC, by the API provider\"\n}\n"
     ]
    }
   ],
   "source": [
    "url = \"https://newscatcher.p.rapidapi.com/v1/search\"\n",
    "\n",
    "# Searching about Lifestyle anywhere\n",
    "querystring = {\"q\":\"lifestyle\",\"lang\":\"en\",\"sort_by\":\"relevancy\",\"topic\":\"news\",\"page\":\"1\",\"media\":\"True\", 'from': today}\n",
    "\n",
    "\n",
    "response = requests.request(\"GET\", url, headers=headers, params=querystring)\n",
    "\n",
    "jsonObj = json.loads(response.text)\n",
    "print(json.dumps(jsonObj, indent = 2))"
   ]
  },
  {
   "cell_type": "code",
   "execution_count": 33,
   "metadata": {},
   "outputs": [
    {
     "output_type": "stream",
     "name": "stdout",
     "text": [
      "{\n  \"message\": \"You have exceeded the rate limit per hour for your plan, BASIC, by the API provider\"\n}\n"
     ]
    }
   ],
   "source": [
    "url = \"https://newscatcher.p.rapidapi.com/v1/search\"\n",
    "\n",
    "# Searching about Education\n",
    "querystring = {\"q\":\"education\",\"lang\":\"en\",\"sort_by\":\"relevancy\",\"topic\":\"news\",\"page\":\"1\",\"media\":\"True\", 'from': today}\n",
    "\n",
    "\n",
    "response = requests.request(\"GET\", url, headers=headers, params=querystring)\n",
    "\n",
    "jsonObj = json.loads(response.text)\n",
    "print(json.dumps(jsonObj, indent = 2))"
   ]
  }
 ]
}