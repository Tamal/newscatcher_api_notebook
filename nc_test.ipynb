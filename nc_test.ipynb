{
 "metadata": {
  "language_info": {
   "codemirror_mode": {
    "name": "ipython",
    "version": 3
   },
   "file_extension": ".py",
   "mimetype": "text/x-python",
   "name": "python",
   "nbconvert_exporter": "python",
   "pygments_lexer": "ipython3",
   "version": "3.7.9"
  },
  "orig_nbformat": 4,
  "kernelspec": {
   "name": "python3",
   "display_name": "Python 3.7.9 64-bit ('env': venv)"
  },
  "interpreter": {
   "hash": "dd51b2024122333d0c2f5d27a3ce90bdb1562b8eeccb7dc71baff200e418b629"
  }
 },
 "nbformat": 4,
 "nbformat_minor": 2,
 "cells": [
  {
   "cell_type": "code",
   "execution_count": 2,
   "metadata": {},
   "outputs": [
    {
     "output_type": "stream",
     "name": "stdout",
     "text": [
      "145\n"
     ]
    }
   ],
   "source": [
    "from newscatcher import Newscatcher, urls, describe_url\n",
    "urls_pol = urls(topic='Politics')\n",
    "\n",
    "print(len(urls_pol))"
   ]
  },
  {
   "cell_type": "code",
   "execution_count": 3,
   "metadata": {},
   "outputs": [
    {
     "output_type": "execute_result",
     "data": {
      "text/plain": [
       "['princeton.edu',\n",
       " 'theatlantic.com',\n",
       " 'house.gov',\n",
       " 'senate.gov',\n",
       " 'channel4.com',\n",
       " 'nationalreview.com',\n",
       " 'fivethirtyeight.com',\n",
       " 'leparisien.fr',\n",
       " 'francetvinfo.fr',\n",
       " 'parliament.uk']"
      ]
     },
     "metadata": {},
     "execution_count": 3
    }
   ],
   "source": [
    "urls_pol[:10]"
   ]
  },
  {
   "cell_type": "code",
   "execution_count": 4,
   "metadata": {},
   "outputs": [
    {
     "output_type": "execute_result",
     "data": {
      "text/plain": [
       "{'url': 'theatlantic.com',\n",
       " 'language': 'en',\n",
       " 'country': 'None',\n",
       " 'main_topic': 'politics',\n",
       " 'topics': ['tech', 'science', 'politics', 'news', 'economics']}"
      ]
     },
     "metadata": {},
     "execution_count": 4
    }
   ],
   "source": [
    "describe_url(urls_pol[1])"
   ]
  },
  {
   "cell_type": "code",
   "execution_count": 5,
   "metadata": {},
   "outputs": [
    {
     "output_type": "stream",
     "name": "stdout",
     "text": [
      "1.   |  ‘Nobody Wants White Kids to Feel Bad About Their Race’\n2.   |  A Culture of Free Speech Protects Everyone\n3.   |  ‘They Learn to Parrot What They Know They’re Supposed to Say’\n4.   |  Put Anthony Fauci in a Dunk Tank\n5.   |  The Numbers Tell a Different Story About Police Killings of Minors\n6.   |  Not Everything Should Be a Moral Reckoning\n7.   |  A Distinctly American Problem Needs Systematic Investigation\n8.   |  The Sexual Identity That Emerged on TikTok\n9.   |  ‘The Narrative Is, “You Can’t Get Ahead”’\n10.  |  What Happens When a Slogan Becomes the Curriculum\n"
     ]
    }
   ],
   "source": [
    "atlantic = Newscatcher(urls_pol[1], topic='politics')\n",
    "atlantic.print_headlines(n=10)"
   ]
  },
  {
   "cell_type": "code",
   "execution_count": 6,
   "metadata": {},
   "outputs": [
    {
     "output_type": "stream",
     "name": "stdout",
     "text": [
      "Results:25\n"
     ]
    }
   ],
   "source": [
    "results = atlantic.get_news()\n",
    "print('Results:'+ str(len(results['articles'])))"
   ]
  },
  {
   "cell_type": "code",
   "execution_count": 7,
   "metadata": {
    "tags": []
   },
   "outputs": [
    {
     "output_type": "stream",
     "name": "stdout",
     "text": [
      "‘Nobody Wants White Kids to Feel Bad About Their Race’\n<p class=\"dropcap\">A<span class=\"smallcaps\">nastasia Higginbotham is</span> the author of <i>Ordinary Terrible Things</i>, a widely praised children’s-book series that aims to address difficult subjects head on. In <a href=\"https://www.theatlantic.com/ideas/archive/2021/03/should-black-lives-matter-agenda-be-taught-school/618277/?utm_source=feed\">a recent article</a>, I questioned whether <a href=\"http://anastasiahigginbotham.com/not-my-idea/\">her book <i>Not My Idea</i></a>—which is now being used in public-school curricula for young children—was appropriate for kindergartners. (Readers curious about the book’s content can consult <a href=\"https://www.youtube.com/watch?v=l_f2lGrv44o\">the actor John Jimerson’s reading</a> on YouTube.)</p><p><i>Not My Idea</i> begins with a white child seeing footage of a police officer murdering a Black man on television and the child’s mother trying to shield her from the images. At times, I thought that it crossed the line from education into indoctrination. Higginbotham, to put it mildly, disagreed with my criticism. “I am not saying this is indicative of your character or beliefs in any way—you clearly believe and affirm that Black lives matter,” she declared to me in an email. “I am asserting that indoctrination into whiteness and anti-Blackness is evident in your framing.”</p><p>Clearly we had deep disagreements over an issue families and educators all over America are grappling with: What <i>exactly</i> should we teach children about race, police killings, and the relationship between the two? I suggested to Higginbotham that we air our differences through an email exchange, and she agreed.</p><p data-id=\"injected-recirculation-link\"><i>[<a href=\"https://www.theatlantic.com/education/archive/2020/09/teaching-talking-kids-about-racism-and-police/616159/?utm_source=feed\">Read: How to talk to kids about racism and police</a>]</i></p><p>She argues that, at the earliest possible age, white kids should be taught to identify whiteness as the root of racial injustice so that they can reject the pervasive racism that they would otherwise embody. I think her account of what causes police killings is too monocausal and that her zeal for uprooting racism sometimes strays into overgeneralization based in racial stereotyping. Regardless, her message that kids can choose to reject racism is laudable, and many school districts find it valuable. What follows is an edited and condensed version of our discussion.</p><hr><p><b>Conor Friedersdorf: </b>Your series of children’s books, <i>Ordinary Terrible Things</i>, tackle divorce, death, and sex before your 2018 title, <i>Not My Idea: A Book About Whiteness</i>, took on race. What prompted you to choose that subject, and why did you make a police killing the focus of the plot?</p><p><b>Anastasia Higginbotham: </b>My children’s school was hosting workshops for families about how whiteness affects us—what we see, what we miss, and where we can go astray even when we care about undoing racism. Those conversations, led by Black women, shifted my experience. Before, I was mad and sad about racism, but I was alienated from it, as if it were happening over there, <i>to someone else.</i> It became something I understood from the inside out, a body awareness of the racism in me that was not a moral failure but a failure of attention, a failure to notice its presence and root it out, choice by choice. I thought, <i>Kids will understand this. Kids will get that this game is rigged and they will want no part of it</i>. The earlier we tell them, the sooner they can choose how they want to be.</p><p>I started with a shooting because videos of police officers killing unarmed Black people were coming out one after the other—same as now. Each time the Black community would gather to say “Stop killing our families!,” police would violently attack them too. It’s our responsibility to help children cope with life exactly as it is and grow in the process, whether it’s divorce, death, sexuality, or violent white supremacy embedded into all of our systems.</p><figure><img alt=\"Not My Idea book cover\" height=\"672\" src=\"https://cdn.theatlantic.com/media/img/posts/2021/06/NotMyIdea/d62f2d00f.jpg\" width=\"672\">\n<figcaption class=\"caption\">Courtesy of Dottir Press</figcaption>\n</figure><p><b>Friedersdorf: </b>My awareness of race and policing began at 11, when I saw the videotape of cops beating Rodney King. I felt that I had witnessed a kind of evil, and I wanted no part of it. But an 11-year-old seeing video of Rodney King or George Floyd, feeling <i>That’s just wrong</i>, and being awakened to the fact of racial disparities in policing and bad cops who perpetrate brutality seems rather different than an 11-year-old awakening to any conclusion as sweeping as “violent white supremacy” is “embedded into all of our systems.” That’s a contestable claim, and presenting it as fact to children too young to evaluate a matter so complex seems dogmatic to me.</p><p>What age group did you write your book to reach? Although I agree with your general ethos of speaking frankly to kids about hard topics, teaching about police killings in kindergarten seems too young to me. And what does it mean for a system to have “violent white supremacy” embedded within it? Is violent white supremacy embedded in today’s U.S. Postal Service? The Brooklyn Public Library? I’m not trying to be glib. But you said “all our systems.” Many systems in America are clearly neither violent nor white supremacist.</p><p data-id=\"injected-recirculation-link\"><i>[<a href=\"https://www.theatlantic.com/culture/archive/2020/08/the-problem-with-police-shooting-videos-jacob-blake/615880/?utm_source=feed\">Read: The problem with police-shooting videos</a>]</i></p><p><b>Higginbotham: </b>The book I made teaches young children about whiteness—it is not about police brutality. The problem in the book is not that police kill innocent people; it’s that the child’s white family refuses to discuss the significance of these killings with the child, who is left alone in confusion and self-doubt. No matter the crisis, my focus is on growing up by knowing yourself and your world. My books guide a child toward the resources of their own instincts and imagination, as well as family members who can offer support. In <i>Not My Idea</i>, white family members turn away from the child’s pain in the face of racist violence, and so my book points them to the library.</p><p>Whiteness is the reason these killings by police happen—the white cultural mindset that tells us white is good and innocent, while Black is bad and dangerous. Whiteness is the reason cops make split-second decisions to fire their weapons into the body of an unarmed person who is Black, while not even reaching for their weapon during interactions with armed and violent criminals who are white. You ask what is the appropriate age to tell children about police brutality, but which children do you mean? The siblings, cousins, children, and grandchildren of people whose family members are targeted know about it. You mean <i>white children</i>. When is the right age to tell white children about a system so cruel, we fear it will be traumatizing for them to even find out about it? Yes, I think it’s appropriate to teach my book to white kindergartners.</p><p>You call my assertion that violent white supremacy is embedded into all of our systems too “complex” for children to evaluate. But racism is not complex; the human beings who perpetuate it are. I have perpetuated racism without believing in it—<i>that</i> is complicated. Racism itself is ridiculous. Elevating a people’s worthiness, morality, intelligence, cleanliness, aptitude, and dignity based on skin tone—that is a terrible idea, it was not my idea, and I will spend my life revealing and unlearning that nonsense and making sure kids can, too, as young as possible.</p><p>You write, “Many systems in America are clearly neither violent nor white supremacist.” But that’s not how whiteness works. Any place where there are white people has violent white supremacy embedded into it because it is embedded in us. Do I kill people? No. Does my call to 911? It might. So long as we give the lies and distortions of whiteness space inside our bodies and minds, we are its hosts. We bring it into every room, interaction, classroom, and child we raise unprepared to question it.</p><p data-id=\"injected-recirculation-link\"><i>[<a href=\"https://www.theatlantic.com/magazine/archive/2019/04/adam-serwer-madison-grant-white-nationalism/583258/?utm_source=feed\">From the April 2019 issue: White nationalism’s deep American roots</a>]</i></p><p><b>Friedersdorf:</b> Racism <i>is</i> ridiculous. My favorite thing about <i>Not My Idea</i> is teaching kids that they can reject the absurdity of evaluating others by their skin tone. But don’t we perpetuate that same pernicious lie of race by teaching 6-year-olds that some of them literally embody a trait called “whiteness” that takes up space in <i>their</i> brains, brings danger to any location <i>they</i> visit, and is also the cause of police murders? You make their race sound like original sin. Though it is not your intention, I fear formulations like that will make white kids feel prejudged and bad and dangerous.</p><p>I do believe racial prejudice, as opposed to “whiteness,” is a factor in some police killings, and that some cops do internalize a stereotype that “Black is bad and dangerous” (a stereotype that you call a “white cultural mindset” but that I call a “<i>racist</i> cultural mindset.”) That may explain some of the racial disparity in police shootings. I suspect there would be marginally fewer but for that factor.</p><p>But your conception of how whiteness works commits you to far more sweeping claims. You claim, “Whiteness is the reason these killings by police happen.” When I suggested that 6 may be too young to teach kids about police killings, you countered, “You mean <i>white children</i>.” I didn’t. And white children <i>are</i> affected by police killings. Since 2015, U.S. police officers have <a href=\"https://www.washingtonpost.com/graphics/investigations/police-shootings-database/\">shot and killed</a> roughly 2,894 white people and 1,516 Black people. I worry that children reading your book will come away with a false impression: that police kill only Black people and that a typical killing sees an unarmed Black man with hands raised in the air who is summarily murdered by a racist.</p><p>That stylized fact pattern in your book is highly atypical. The large majority of police killings involve armed individuals––many of whom appear to threaten others before they are shot––not unambiguous murders of unarmed men. To level with kids about the hard truths of the world, we need to tell them <i>all</i> the reasons police killings occur, attuned to racism, but not to the exclusion of all other factors. Police brutalize democracy protesters in Hong Kong. Nigeria has been <a href=\"https://www.theguardian.com/world/2020/oct/11/nigeria-to-disband-sars-police-unit-accused-of-killings-and-brutality\">roiled</a> by protests against police brutality and extrajudicial killings. So has <a href=\"https://www.ethiopia-insight.com/2020/08/14/our-protectors-in-blue-police-brutality-and-misconduct-in-ethiopia/\">Ethiopia</a>. Kenya’s <a href=\"https://www.theguardian.com/global-development/2020/oct/23/brutal-policing-kenyas-covid-curfew-left-15-dead\">brutal policing</a> of COVID-19 curfews left 15 people dead. Venezuelans have been <a href=\"https://www.reuters.com/investigates/special-report/venezuela-violence-police/\">terrorized</a> by police of late. If all white people disappeared, there would still be police killings and police brutality, because this is a human problem. How will we solve it if we teach kids that whiteness is the root of it?</p><p>One point of confusion for me is: Do you believe whiteness is a construct that we can reject and shed, or an inherited, immutable trait embedded in our bodies that we can only struggle against perpetually?</p><p data-id=\"injected-recirculation-link\"><i>[<a href=\"https://www.theatlantic.com/ideas/archive/2021/04/compliance-will-not-save-my-body/618637/?utm_source=feed\">Ibram X. Kendi: Compliance will not save me</a>]</i></p><p><b>Higginbotham:</b> I hear your worry that I’m telling kids police only kill Black people, but if that’s your main takeaway from my book about whiteness, then you didn’t get it. Underneath all the resistance to my book is that nobody wants white kids to feel bad about being white. Do the same people who worry about making white kids feel bad about being white want Black kids to feel good about being Black? To love their skin and feel safe in their bodies? Tell me, which kids are growing up fearful and “prejudged and bad and dangerous” every day. The way that gets twisted is whiteness: that ability to look at a problem as insidious as systemic racism and conclude that white children need to be protected from knowing about that so they don’t <i>feel bad</i> is whiteness. It makes sense only in its diabolical reversal of truth that portrays white kids as the real victims of racism.</p><p>Nobody wants white kids to feel bad about their race, but a bunch of them already do. In the absence of an actual history education, white kids grow up with shame and self-doubt about why they are safe from racism and someone else is not. Without an actual history education, they do not understand that there is a historical, economic, and psychological context for racism that undergirds what they are seeing and what is happening.</p><p>To your question, of course I don’t see whiteness as an immutable trait. Of course I think we can reject and shed it. That’s the whole point of the book. White kids need adults to help them sort out that being white is not the same as whiteness. What kids don’t need is for the white adults in their lives to waste energy fighting to keep books like mine out of their hands out of a fear of what telling the truth will do to them. We underestimate white kids because we underestimate ourselves. We protect them to protect ourselves. The truth hurts. <i>Not My Idea</i> offers a chance to address the pain by facing the truth together.</p><p><b>Friedersdorf: </b>Don’t misunderstand me: On many of its pages, I think that your book conveys wonderful messages, and I strongly disagree with any state legislator who would try to censor it. But I do worry that most kindergartners won’t grasp the distinction between <i>white</i> and <i>whiteness</i> that I see<a href=\"https://www.theatlantic.com/ideas/archive/2020/08/an-immigrants-plea-dont-turn-our-america-white/615646/?utm_source=feed\"> many adults bungle</a>. Although you do treat whiteness as a mindset that a book like yours can teach even very young children to reject, at other times you treat it as a trait so stubbornly persistent that even you haven’t shed it.</p><p>I’d teach that anti-Blackness is a prejudice that can be perpetuated by people of any race; that in U.S. history, anti-Blackness was perpetuated most consequentially by people who believed themselves to be white and adhered to a pernicious doctrine of white supremacy; but that anti-Blackness was also perpetuated by (e.g.) Native Americans who held African slaves and Irish and Italian immigrants who weren’t then widely classified as white; that some anti-Blackness was and is rooted in pernicious human tendencies toward xenophobia and otherism; and that across history, most groups have both perpetuated and been victims of violent<a href=\"https://www.theatlantic.com/ideas/archive/2019/08/what-if-left-was-right-race/595777/?utm_source=feed\"> differentism</a>. That isn’t glossing over hard truths. It acknowledges whiteness <i>and</i> other ugly truths, facts, and forces that inform complex problems you attribute to whiteness alone.</p><p>Your book rightly reflects your own ideas, not mine; many love it, and it’s sold far better than any I’ve written! But you’re wrong when you cast all your critics as motivated by an aversion to “facing the truth.” On one page near the end of <i>Not My Idea</i>, there’s a picture of a devil holding a contract “binding you to whiteness” for kids to sign or reject. “You get stolen land, stolen riches, special favors (land, riches and favors may be revoked at any time for any reason),” it states. “Whiteness gets to mess endlessly with the lives of your friends, neighbors, loved ones, and all fellow humans of color for the purpose of profit.” I don’t reject that page because I fear white kids will feel bad but because I don’t think it gets at the truth. White kids shouldn’t be taught exaggerated renderings of their prerogatives, and Black kids shouldn’t be taught the disempowering notion that white classmates control their fates. With that, I’ll give you the last word.</p><figure><img alt=\"An illustration of a page from Not My Idea, showing a contract with whiteness.\" height=\"672\" src=\"https://cdn.theatlantic.com/media/img/posts/2021/06/NotMyIdea_62/e2f80fddc.jpg\" width=\"672\">\n<figcaption class=\"caption\">Courtesy of Dottir Press</figcaption>\n</figure><p><b>Higginbotham:</b> I made a book for white children that encourages them to connect with their heartbreak about racism. I urge them to tune into their deepest instincts about justice—<i>which I trust</i>—and to nourish those instincts like bean sprouts in a milk carton. I assure them that racism is not their idea and they don’t need to defend it; they can be curious instead.</p><p>Rather than being curious about your own experience, you fuss at me about the book I made and how much it leaves to kids’ imaginations: They might not like themselves; they might think police only kill Black people; they might draw sweeping conclusions about white supremacy being evil.</p><p>I’m cool with all of that. As long as kids continue to be curious, those beliefs will shift. I want kids clued in on the fact that racism is a system, a setup, a game that has been rigged, and to let them know they get to choose how they want to be. The experience of race they most need to understand is their own. The people they most need to talk to about race are their own family members. That’s where I started and where I am content to stop.</p>\n2021-06-05T06:00:00-04:00\n"
     ]
    }
   ],
   "source": [
    "print(results['articles'][0]['title'])\n",
    "print(results['articles'][0]['summary'])\n",
    "print(results['articles'][0]['published'])"
   ]
  },
  {
   "cell_type": "code",
   "execution_count": 2,
   "metadata": {},
   "outputs": [
    {
     "output_type": "stream",
     "name": "stdout",
     "text": [
      "\nNo results found check internet connection or query parameters\n\nNo result!!\n"
     ]
    }
   ],
   "source": [
    "from newscatcher import Newscatcher\n",
    "nc = Newscatcher(website='smh.com.au')\n",
    "results = nc.get_news()\n",
    "\n",
    "if results == None:\n",
    "    print('No results!!')\n",
    "else:\n",
    "    print('Keys:', results.keys())\n",
    "    print('Topics:', results['topic'])\n",
    "\n",
    "    articles = results['articles']\n",
    "\n",
    "    if articles == None:\n",
    "        print('No Articles')\n",
    "    else:\n",
    "        firstArticle = articles[0]['title']\n",
    "        print(firstArticle)"
   ]
  },
  {
   "cell_type": "code",
   "execution_count": 3,
   "metadata": {},
   "outputs": [
    {
     "output_type": "stream",
     "name": "stdout",
     "text": [
      "Keys: dict_keys(['url', 'topic', 'language', 'country', 'articles'])\nTopics: news\nLive: Toss delayed in World Test Championship final\n"
     ]
    }
   ],
   "source": [
    "from newscatcher import Newscatcher\n",
    "nc = Newscatcher(website='nzherald.co.nz')\n",
    "results = nc.get_news()\n",
    "\n",
    "if results == None:\n",
    "    print('No results!!')\n",
    "else:\n",
    "    print('Keys:', results.keys())\n",
    "    print('Topics:', results['topic'])\n",
    "\n",
    "    articles = results['articles']\n",
    "\n",
    "    if articles == None:\n",
    "        print('No Articles')\n",
    "    else:\n",
    "        firstArticle = articles[0]['title']\n",
    "        print(firstArticle)"
   ]
  }
 ]
}